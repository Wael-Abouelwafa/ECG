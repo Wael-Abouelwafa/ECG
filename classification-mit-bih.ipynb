{
 "cells": [
  {
   "cell_type": "code",
   "execution_count": 1,
   "id": "uniform-insulin",
   "metadata": {
    "_cell_guid": "b1076dfc-b9ad-4769-8c92-a6c4dae69d19",
    "_uuid": "8f2839f25d086af736a60e9eeb907d3b93b6e0e5",
    "execution": {
     "iopub.execute_input": "2022-02-19T21:12:43.452258Z",
     "iopub.status.busy": "2022-02-19T21:12:43.451456Z",
     "iopub.status.idle": "2022-02-19T21:12:43.467662Z",
     "shell.execute_reply": "2022-02-19T21:12:43.468213Z",
     "shell.execute_reply.started": "2022-02-19T21:09:50.214801Z"
    },
    "papermill": {
     "duration": 0.044476,
     "end_time": "2022-02-19T21:12:43.468557",
     "exception": false,
     "start_time": "2022-02-19T21:12:43.424081",
     "status": "completed"
    },
    "tags": []
   },
   "outputs": [
    {
     "name": "stdout",
     "output_type": "stream",
     "text": [
      "/kaggle/input/heartbeat/ptbdb_abnormal.csv\n",
      "/kaggle/input/heartbeat/ptbdb_normal.csv\n",
      "/kaggle/input/heartbeat/mitbih_test.csv\n",
      "/kaggle/input/heartbeat/mitbih_train.csv\n"
     ]
    }
   ],
   "source": [
    "# This Python 3 environment comes with many helpful analytics libraries installed\n",
    "# It is defined by the kaggle/python Docker image: https://github.com/kaggle/docker-python\n",
    "# For example, here's several helpful packages to load\n",
    "\n",
    "import numpy as np # linear algebra\n",
    "import pandas as pd # data processing, CSV file I/O (e.g. pd.read_csv)\n",
    "\n",
    "# Input data files are available in the read-only \"../input/\" directory\n",
    "# For example, running this (by clicking run or pressing Shift+Enter) will list all files under the input directory\n",
    "\n",
    "import os\n",
    "for dirname, _, filenames in os.walk('/kaggle/input'):\n",
    "    for filename in filenames:\n",
    "        print(os.path.join(dirname, filename))\n",
    "\n",
    "# You can write up to 20GB to the current directory (/kaggle/working/) that gets preserved as output when you create a version using \"Save & Run All\" \n",
    "# You can also write temporary files to /kaggle/temp/, but they won't be saved outside of the current session"
   ]
  },
  {
   "cell_type": "markdown",
   "id": "affecting-piece",
   "metadata": {
    "papermill": {
     "duration": 0.016991,
     "end_time": "2022-02-19T21:12:43.503383",
     "exception": false,
     "start_time": "2022-02-19T21:12:43.486392",
     "status": "completed"
    },
    "tags": []
   },
   "source": [
    "# **CNN for MIT-BIH Arrhythmia Dataset**"
   ]
  },
  {
   "cell_type": "markdown",
   "id": "patient-cookbook",
   "metadata": {
    "papermill": {
     "duration": 0.01702,
     "end_time": "2022-02-19T21:12:43.537740",
     "exception": false,
     "start_time": "2022-02-19T21:12:43.520720",
     "status": "completed"
    },
    "tags": []
   },
   "source": [
    "# Importing data"
   ]
  },
  {
   "cell_type": "code",
   "execution_count": 2,
   "id": "australian-purple",
   "metadata": {
    "execution": {
     "iopub.execute_input": "2022-02-19T21:12:43.577779Z",
     "iopub.status.busy": "2022-02-19T21:12:43.576907Z",
     "iopub.status.idle": "2022-02-19T21:12:44.765583Z",
     "shell.execute_reply": "2022-02-19T21:12:44.764810Z",
     "shell.execute_reply.started": "2022-02-19T21:09:50.241843Z"
    },
    "papermill": {
     "duration": 1.210654,
     "end_time": "2022-02-19T21:12:44.765742",
     "exception": false,
     "start_time": "2022-02-19T21:12:43.555088",
     "status": "completed"
    },
    "tags": []
   },
   "outputs": [],
   "source": [
    "from sklearn.model_selection import train_test_split\n",
    "import seaborn as sns\n",
    "import matplotlib.pyplot as plt\n"
   ]
  },
  {
   "cell_type": "code",
   "execution_count": 3,
   "id": "measured-luxembourg",
   "metadata": {
    "execution": {
     "iopub.execute_input": "2022-02-19T21:12:44.807895Z",
     "iopub.status.busy": "2022-02-19T21:12:44.807119Z",
     "iopub.status.idle": "2022-02-19T21:12:55.335105Z",
     "shell.execute_reply": "2022-02-19T21:12:55.334553Z",
     "shell.execute_reply.started": "2022-02-19T21:09:51.222959Z"
    },
    "papermill": {
     "duration": 10.551704,
     "end_time": "2022-02-19T21:12:55.335257",
     "exception": false,
     "start_time": "2022-02-19T21:12:44.783553",
     "status": "completed"
    },
    "tags": []
   },
   "outputs": [],
   "source": [
    "train_data = pd.read_csv(\"/kaggle/input/heartbeat/mitbih_train.csv\", header = None) \n",
    "train_data=pd.DataFrame(train_data)\n",
    "test_data = pd.read_csv(\"../input/heartbeat/mitbih_test.csv\", header = None)\n",
    "test_data=pd.DataFrame(test_data)\n"
   ]
  },
  {
   "cell_type": "markdown",
   "id": "joint-remainder",
   "metadata": {
    "papermill": {
     "duration": 0.016862,
     "end_time": "2022-02-19T21:12:55.369778",
     "exception": false,
     "start_time": "2022-02-19T21:12:55.352916",
     "status": "completed"
    },
    "tags": []
   },
   "source": [
    "# Data Preprocessing"
   ]
  },
  {
   "cell_type": "code",
   "execution_count": 4,
   "id": "meaningful-skirt",
   "metadata": {
    "execution": {
     "iopub.execute_input": "2022-02-19T21:12:55.410651Z",
     "iopub.status.busy": "2022-02-19T21:12:55.409899Z",
     "iopub.status.idle": "2022-02-19T21:12:55.458150Z",
     "shell.execute_reply": "2022-02-19T21:12:55.457618Z",
     "shell.execute_reply.started": "2022-02-19T21:10:03.249023Z"
    },
    "papermill": {
     "duration": 0.070941,
     "end_time": "2022-02-19T21:12:55.458302",
     "exception": false,
     "start_time": "2022-02-19T21:12:55.387361",
     "status": "completed"
    },
    "tags": []
   },
   "outputs": [
    {
     "data": {
      "text/plain": [
       "0      0\n",
       "1      0\n",
       "2      0\n",
       "3      0\n",
       "4      0\n",
       "      ..\n",
       "183    0\n",
       "184    0\n",
       "185    0\n",
       "186    0\n",
       "187    0\n",
       "Length: 188, dtype: int64"
      ]
     },
     "execution_count": 4,
     "metadata": {},
     "output_type": "execute_result"
    }
   ],
   "source": [
    "train_data.isnull().sum()"
   ]
  },
  {
   "cell_type": "code",
   "execution_count": 5,
   "id": "marine-encounter",
   "metadata": {
    "execution": {
     "iopub.execute_input": "2022-02-19T21:12:55.568569Z",
     "iopub.status.busy": "2022-02-19T21:12:55.498134Z",
     "iopub.status.idle": "2022-02-19T21:12:56.675708Z",
     "shell.execute_reply": "2022-02-19T21:12:56.676288Z",
     "shell.execute_reply.started": "2022-02-19T21:10:03.301888Z"
    },
    "papermill": {
     "duration": 1.200259,
     "end_time": "2022-02-19T21:12:56.676495",
     "exception": false,
     "start_time": "2022-02-19T21:12:55.476236",
     "status": "completed"
    },
    "tags": []
   },
   "outputs": [
    {
     "data": {
      "text/html": [
       "<div>\n",
       "<style scoped>\n",
       "    .dataframe tbody tr th:only-of-type {\n",
       "        vertical-align: middle;\n",
       "    }\n",
       "\n",
       "    .dataframe tbody tr th {\n",
       "        vertical-align: top;\n",
       "    }\n",
       "\n",
       "    .dataframe thead th {\n",
       "        text-align: right;\n",
       "    }\n",
       "</style>\n",
       "<table border=\"1\" class=\"dataframe\">\n",
       "  <thead>\n",
       "    <tr style=\"text-align: right;\">\n",
       "      <th></th>\n",
       "      <th>count</th>\n",
       "      <th>mean</th>\n",
       "      <th>std</th>\n",
       "      <th>min</th>\n",
       "      <th>25%</th>\n",
       "      <th>50%</th>\n",
       "      <th>75%</th>\n",
       "      <th>max</th>\n",
       "    </tr>\n",
       "  </thead>\n",
       "  <tbody>\n",
       "    <tr>\n",
       "      <th>0</th>\n",
       "      <td>87554.0</td>\n",
       "      <td>0.890360</td>\n",
       "      <td>0.240909</td>\n",
       "      <td>0.0</td>\n",
       "      <td>0.921922</td>\n",
       "      <td>0.991342</td>\n",
       "      <td>1.000000</td>\n",
       "      <td>1.0</td>\n",
       "    </tr>\n",
       "    <tr>\n",
       "      <th>1</th>\n",
       "      <td>87554.0</td>\n",
       "      <td>0.758160</td>\n",
       "      <td>0.221813</td>\n",
       "      <td>0.0</td>\n",
       "      <td>0.682486</td>\n",
       "      <td>0.826013</td>\n",
       "      <td>0.910506</td>\n",
       "      <td>1.0</td>\n",
       "    </tr>\n",
       "    <tr>\n",
       "      <th>2</th>\n",
       "      <td>87554.0</td>\n",
       "      <td>0.423972</td>\n",
       "      <td>0.227305</td>\n",
       "      <td>0.0</td>\n",
       "      <td>0.250969</td>\n",
       "      <td>0.429472</td>\n",
       "      <td>0.578767</td>\n",
       "      <td>1.0</td>\n",
       "    </tr>\n",
       "    <tr>\n",
       "      <th>3</th>\n",
       "      <td>87554.0</td>\n",
       "      <td>0.219104</td>\n",
       "      <td>0.206878</td>\n",
       "      <td>0.0</td>\n",
       "      <td>0.048458</td>\n",
       "      <td>0.166000</td>\n",
       "      <td>0.341727</td>\n",
       "      <td>1.0</td>\n",
       "    </tr>\n",
       "    <tr>\n",
       "      <th>4</th>\n",
       "      <td>87554.0</td>\n",
       "      <td>0.201127</td>\n",
       "      <td>0.177058</td>\n",
       "      <td>0.0</td>\n",
       "      <td>0.082329</td>\n",
       "      <td>0.147878</td>\n",
       "      <td>0.258993</td>\n",
       "      <td>1.0</td>\n",
       "    </tr>\n",
       "    <tr>\n",
       "      <th>...</th>\n",
       "      <td>...</td>\n",
       "      <td>...</td>\n",
       "      <td>...</td>\n",
       "      <td>...</td>\n",
       "      <td>...</td>\n",
       "      <td>...</td>\n",
       "      <td>...</td>\n",
       "      <td>...</td>\n",
       "    </tr>\n",
       "    <tr>\n",
       "      <th>183</th>\n",
       "      <td>87554.0</td>\n",
       "      <td>0.003471</td>\n",
       "      <td>0.036255</td>\n",
       "      <td>0.0</td>\n",
       "      <td>0.000000</td>\n",
       "      <td>0.000000</td>\n",
       "      <td>0.000000</td>\n",
       "      <td>1.0</td>\n",
       "    </tr>\n",
       "    <tr>\n",
       "      <th>184</th>\n",
       "      <td>87554.0</td>\n",
       "      <td>0.003221</td>\n",
       "      <td>0.034789</td>\n",
       "      <td>0.0</td>\n",
       "      <td>0.000000</td>\n",
       "      <td>0.000000</td>\n",
       "      <td>0.000000</td>\n",
       "      <td>1.0</td>\n",
       "    </tr>\n",
       "    <tr>\n",
       "      <th>185</th>\n",
       "      <td>87554.0</td>\n",
       "      <td>0.002945</td>\n",
       "      <td>0.032865</td>\n",
       "      <td>0.0</td>\n",
       "      <td>0.000000</td>\n",
       "      <td>0.000000</td>\n",
       "      <td>0.000000</td>\n",
       "      <td>1.0</td>\n",
       "    </tr>\n",
       "    <tr>\n",
       "      <th>186</th>\n",
       "      <td>87554.0</td>\n",
       "      <td>0.002807</td>\n",
       "      <td>0.031924</td>\n",
       "      <td>0.0</td>\n",
       "      <td>0.000000</td>\n",
       "      <td>0.000000</td>\n",
       "      <td>0.000000</td>\n",
       "      <td>1.0</td>\n",
       "    </tr>\n",
       "    <tr>\n",
       "      <th>187</th>\n",
       "      <td>87554.0</td>\n",
       "      <td>0.473376</td>\n",
       "      <td>1.143184</td>\n",
       "      <td>0.0</td>\n",
       "      <td>0.000000</td>\n",
       "      <td>0.000000</td>\n",
       "      <td>0.000000</td>\n",
       "      <td>4.0</td>\n",
       "    </tr>\n",
       "  </tbody>\n",
       "</table>\n",
       "<p>188 rows × 8 columns</p>\n",
       "</div>"
      ],
      "text/plain": [
       "       count      mean       std  min       25%       50%       75%  max\n",
       "0    87554.0  0.890360  0.240909  0.0  0.921922  0.991342  1.000000  1.0\n",
       "1    87554.0  0.758160  0.221813  0.0  0.682486  0.826013  0.910506  1.0\n",
       "2    87554.0  0.423972  0.227305  0.0  0.250969  0.429472  0.578767  1.0\n",
       "3    87554.0  0.219104  0.206878  0.0  0.048458  0.166000  0.341727  1.0\n",
       "4    87554.0  0.201127  0.177058  0.0  0.082329  0.147878  0.258993  1.0\n",
       "..       ...       ...       ...  ...       ...       ...       ...  ...\n",
       "183  87554.0  0.003471  0.036255  0.0  0.000000  0.000000  0.000000  1.0\n",
       "184  87554.0  0.003221  0.034789  0.0  0.000000  0.000000  0.000000  1.0\n",
       "185  87554.0  0.002945  0.032865  0.0  0.000000  0.000000  0.000000  1.0\n",
       "186  87554.0  0.002807  0.031924  0.0  0.000000  0.000000  0.000000  1.0\n",
       "187  87554.0  0.473376  1.143184  0.0  0.000000  0.000000  0.000000  4.0\n",
       "\n",
       "[188 rows x 8 columns]"
      ]
     },
     "execution_count": 5,
     "metadata": {},
     "output_type": "execute_result"
    }
   ],
   "source": [
    "train_data.describe().T  "
   ]
  },
  {
   "cell_type": "code",
   "execution_count": 6,
   "id": "identical-volunteer",
   "metadata": {
    "execution": {
     "iopub.execute_input": "2022-02-19T21:12:56.721377Z",
     "iopub.status.busy": "2022-02-19T21:12:56.720674Z",
     "iopub.status.idle": "2022-02-19T21:12:57.104120Z",
     "shell.execute_reply": "2022-02-19T21:12:57.104697Z",
     "shell.execute_reply.started": "2022-02-19T21:10:04.538922Z"
    },
    "papermill": {
     "duration": 0.408478,
     "end_time": "2022-02-19T21:12:57.104882",
     "exception": false,
     "start_time": "2022-02-19T21:12:56.696404",
     "status": "completed"
    },
    "tags": []
   },
   "outputs": [
    {
     "data": {
      "text/plain": [
       "<seaborn.axisgrid.FacetGrid at 0x7fa9809bea50>"
      ]
     },
     "execution_count": 6,
     "metadata": {},
     "output_type": "execute_result"
    },
    {
     "data": {
      "image/png": "[encoded data removed]",
      "text/plain": [
       "<Figure size 360x360 with 1 Axes>"
      ]
     },
     "metadata": {
      "needs_background": "light"
     },
     "output_type": "display_data"
    }
   ],
   "source": [
    "# Display counts of each classes - Most of Data samples are of normal HeartBeats & its a biased data\n",
    "sns.catplot(x = 187, kind = 'count', data = train_data)"
   ]
  },
  {
   "cell_type": "markdown",
   "id": "devoted-extra",
   "metadata": {
    "papermill": {
     "duration": 0.019246,
     "end_time": "2022-02-19T21:12:57.144304",
     "exception": false,
     "start_time": "2022-02-19T21:12:57.125058",
     "status": "completed"
    },
    "tags": []
   },
   "source": [
    "> Divide data into 5 classes"
   ]
  },
  {
   "cell_type": "code",
   "execution_count": 7,
   "id": "cross-function",
   "metadata": {
    "execution": {
     "iopub.execute_input": "2022-02-19T21:12:57.190606Z",
     "iopub.status.busy": "2022-02-19T21:12:57.189861Z",
     "iopub.status.idle": "2022-02-19T21:12:57.345976Z",
     "shell.execute_reply": "2022-02-19T21:12:57.346569Z",
     "shell.execute_reply.started": "2022-02-19T21:10:04.877372Z"
    },
    "papermill": {
     "duration": 0.183001,
     "end_time": "2022-02-19T21:12:57.346760",
     "exception": false,
     "start_time": "2022-02-19T21:12:57.163759",
     "status": "completed"
    },
    "tags": []
   },
   "outputs": [],
   "source": [
    "class_0=train_data[train_data[187]==0.0]\n",
    "class_1=train_data[train_data[187]==1.0]\n",
    "class_2=train_data[train_data[187]==2.0]\n",
    "class_3=train_data[train_data[187]==3.0]\n",
    "class_4=train_data[train_data[187]==4.0]\n",
    "train_data = pd.concat([class_1, class_2, class_3, class_4, class_0])\n"
   ]
  },
  {
   "cell_type": "code",
   "execution_count": 8,
   "id": "reasonable-county",
   "metadata": {
    "execution": {
     "iopub.execute_input": "2022-02-19T21:12:57.389427Z",
     "iopub.status.busy": "2022-02-19T21:12:57.388421Z",
     "iopub.status.idle": "2022-02-19T21:12:57.654272Z",
     "shell.execute_reply": "2022-02-19T21:12:57.653412Z",
     "shell.execute_reply.started": "2022-02-19T21:10:05.096439Z"
    },
    "papermill": {
     "duration": 0.288417,
     "end_time": "2022-02-19T21:12:57.654450",
     "exception": false,
     "start_time": "2022-02-19T21:12:57.366033",
     "status": "completed"
    },
    "tags": []
   },
   "outputs": [
    {
     "data": {
      "image/png": "[encoded data removed]",
      "text/plain": [
       "<Figure size 1440x576 with 1 Axes>"
      ]
     },
     "metadata": {},
     "output_type": "display_data"
    }
   ],
   "source": [
    "sns.set_style('whitegrid')\n",
    "plt.figure(figsize = (20,8))\n",
    "plt.plot(train_data.iloc[0, 0:187], color = 'red')\n",
    "plt.xlabel(\"Time (in ms)\")\n",
    "plt.ylabel(\"Heart Beat Amplitude\")\n",
    "plt.legend()\n",
    "plt.show()"
   ]
  },
  {
   "cell_type": "markdown",
   "id": "retired-manitoba",
   "metadata": {
    "papermill": {
     "duration": 0.021978,
     "end_time": "2022-02-19T21:12:57.697644",
     "exception": false,
     "start_time": "2022-02-19T21:12:57.675666",
     "status": "completed"
    },
    "tags": []
   },
   "source": [
    "**Balance data**"
   ]
  },
  {
   "cell_type": "markdown",
   "id": "encouraging-campbell",
   "metadata": {
    "papermill": {
     "duration": 0.020318,
     "end_time": "2022-02-19T21:12:57.738975",
     "exception": false,
     "start_time": "2022-02-19T21:12:57.718657",
     "status": "completed"
    },
    "tags": []
   },
   "source": [
    "> Upsample"
   ]
  },
  {
   "cell_type": "code",
   "execution_count": 9,
   "id": "composite-kansas",
   "metadata": {
    "execution": {
     "iopub.execute_input": "2022-02-19T21:12:57.783736Z",
     "iopub.status.busy": "2022-02-19T21:12:57.783023Z",
     "iopub.status.idle": "2022-02-19T21:12:57.864409Z",
     "shell.execute_reply": "2022-02-19T21:12:57.865017Z",
     "shell.execute_reply.started": "2022-02-19T21:10:05.378358Z"
    },
    "papermill": {
     "duration": 0.105642,
     "end_time": "2022-02-19T21:12:57.865209",
     "exception": false,
     "start_time": "2022-02-19T21:12:57.759567",
     "status": "completed"
    },
    "tags": []
   },
   "outputs": [],
   "source": [
    "from sklearn.utils import resample\n",
    "\n",
    "class_1_upsample = resample(class_1, n_samples = 20000, replace = True, random_state = 123)\n",
    "class_2_upsample = resample(class_2, n_samples = 20000, replace = True, random_state = 123)\n",
    "class_3_upsample = resample(class_3, n_samples = 20000, replace = True, random_state = 123)\n",
    "class_4_upsample = resample(class_4, n_samples = 20000, replace = True, random_state = 123)"
   ]
  },
  {
   "cell_type": "markdown",
   "id": "equivalent-contribution",
   "metadata": {
    "papermill": {
     "duration": 0.02172,
     "end_time": "2022-02-19T21:12:57.910130",
     "exception": false,
     "start_time": "2022-02-19T21:12:57.888410",
     "status": "completed"
    },
    "tags": []
   },
   "source": [
    "> Downsample"
   ]
  },
  {
   "cell_type": "code",
   "execution_count": 10,
   "id": "bearing-singing",
   "metadata": {
    "execution": {
     "iopub.execute_input": "2022-02-19T21:12:57.958338Z",
     "iopub.status.busy": "2022-02-19T21:12:57.957535Z",
     "iopub.status.idle": "2022-02-19T21:12:58.007446Z",
     "shell.execute_reply": "2022-02-19T21:12:58.006747Z",
     "shell.execute_reply.started": "2022-02-19T21:10:05.449939Z"
    },
    "papermill": {
     "duration": 0.075161,
     "end_time": "2022-02-19T21:12:58.007622",
     "exception": false,
     "start_time": "2022-02-19T21:12:57.932461",
     "status": "completed"
    },
    "tags": []
   },
   "outputs": [],
   "source": [
    "class_0_downsample = resample(class_0, n_samples = 20000, replace = True, random_state = 123)"
   ]
  },
  {
   "cell_type": "code",
   "execution_count": 11,
   "id": "final-retirement",
   "metadata": {
    "execution": {
     "iopub.execute_input": "2022-02-19T21:12:58.056642Z",
     "iopub.status.busy": "2022-02-19T21:12:58.055920Z",
     "iopub.status.idle": "2022-02-19T21:12:58.138872Z",
     "shell.execute_reply": "2022-02-19T21:12:58.138212Z",
     "shell.execute_reply.started": "2022-02-19T21:10:05.511664Z"
    },
    "papermill": {
     "duration": 0.109745,
     "end_time": "2022-02-19T21:12:58.139021",
     "exception": false,
     "start_time": "2022-02-19T21:12:58.029276",
     "status": "completed"
    },
    "tags": []
   },
   "outputs": [],
   "source": [
    "train_data = pd.concat([class_1_upsample, class_2_upsample, class_3_upsample, class_4_upsample, class_0_downsample])"
   ]
  },
  {
   "cell_type": "code",
   "execution_count": 12,
   "id": "former-portfolio",
   "metadata": {
    "execution": {
     "iopub.execute_input": "2022-02-19T21:12:58.191492Z",
     "iopub.status.busy": "2022-02-19T21:12:58.190793Z",
     "iopub.status.idle": "2022-02-19T21:12:58.349098Z",
     "shell.execute_reply": "2022-02-19T21:12:58.348457Z",
     "shell.execute_reply.started": "2022-02-19T21:10:05.730638Z"
    },
    "papermill": {
     "duration": 0.189385,
     "end_time": "2022-02-19T21:12:58.349261",
     "exception": false,
     "start_time": "2022-02-19T21:12:58.159876",
     "status": "completed"
    },
    "tags": []
   },
   "outputs": [
    {
     "data": {
      "image/png": "[encoded data removed]",
      "text/plain": [
       "<Figure size 720x720 with 1 Axes>"
      ]
     },
     "metadata": {},
     "output_type": "display_data"
    }
   ],
   "source": [
    "plt.figure(figsize= (10,10))\n",
    "my_circle = plt.Circle((0,0), 0.7, color = 'white') \n",
    "plt.pie(train_data[187].value_counts(), labels=['Normal Beats','Unknown Beats','Ventricular ectopic beats','Supraventricular ectopic beats',\n",
    "                                                'Fusion Beats'], autopct = '%0.0f%%', colors = ['red','orange','blue','magenta','cyan'])\n",
    "p = plt.gcf()\n",
    "p.gca().add_artist(my_circle)\n",
    "plt.show()"
   ]
  },
  {
   "cell_type": "markdown",
   "id": "opening-hamburg",
   "metadata": {
    "papermill": {
     "duration": 0.023312,
     "end_time": "2022-02-19T21:12:58.396112",
     "exception": false,
     "start_time": "2022-02-19T21:12:58.372800",
     "status": "completed"
    },
    "tags": []
   },
   "source": [
    "#  Apply Keras Models"
   ]
  },
  {
   "cell_type": "code",
   "execution_count": 13,
   "id": "identified-destination",
   "metadata": {
    "execution": {
     "iopub.execute_input": "2022-02-19T21:12:58.447852Z",
     "iopub.status.busy": "2022-02-19T21:12:58.447017Z",
     "iopub.status.idle": "2022-02-19T21:13:05.286215Z",
     "shell.execute_reply": "2022-02-19T21:13:05.286775Z",
     "shell.execute_reply.started": "2022-02-19T21:10:05.900642Z"
    },
    "papermill": {
     "duration": 6.868282,
     "end_time": "2022-02-19T21:13:05.286976",
     "exception": false,
     "start_time": "2022-02-19T21:12:58.418694",
     "status": "completed"
    },
    "tags": []
   },
   "outputs": [],
   "source": [
    "from keras.utils import to_categorical\n",
    "Y=train_data.values[:, -1].astype(int)\n",
    "y=to_categorical(Y)\n",
    "X_train, X_valid, y_train, y_valid = train_test_split(train_data.drop([187], axis=1), y, test_size = 0.3)"
   ]
  },
  {
   "cell_type": "code",
   "execution_count": 14,
   "id": "introductory-smooth",
   "metadata": {
    "execution": {
     "iopub.execute_input": "2022-02-19T21:13:05.335882Z",
     "iopub.status.busy": "2022-02-19T21:13:05.335125Z",
     "iopub.status.idle": "2022-02-19T21:14:31.822404Z",
     "shell.execute_reply": "2022-02-19T21:14:31.821651Z",
     "shell.execute_reply.started": "2022-02-19T21:10:12.127308Z"
    },
    "papermill": {
     "duration": 86.513219,
     "end_time": "2022-02-19T21:14:31.822613",
     "exception": false,
     "start_time": "2022-02-19T21:13:05.309394",
     "status": "completed"
    },
    "tags": []
   },
   "outputs": [
    {
     "name": "stdout",
     "output_type": "stream",
     "text": [
      "Epoch 1/20\n",
      "2188/2188 [==============================] - 5s 2ms/step - loss: 0.7203 - accuracy: 0.7436 - val_loss: 0.3694 - val_accuracy: 0.8602\n",
      "Epoch 2/20\n",
      "2188/2188 [==============================] - 4s 2ms/step - loss: 0.3421 - accuracy: 0.8706 - val_loss: 0.2913 - val_accuracy: 0.8955\n",
      "Epoch 3/20\n",
      "2188/2188 [==============================] - 4s 2ms/step - loss: 0.2755 - accuracy: 0.8982 - val_loss: 0.2398 - val_accuracy: 0.9134\n",
      "Epoch 4/20\n",
      "2188/2188 [==============================] - 4s 2ms/step - loss: 0.2354 - accuracy: 0.9143 - val_loss: 0.2190 - val_accuracy: 0.9264\n",
      "Epoch 5/20\n",
      "2188/2188 [==============================] - 4s 2ms/step - loss: 0.2071 - accuracy: 0.9262 - val_loss: 0.2030 - val_accuracy: 0.9284\n",
      "Epoch 6/20\n",
      "2188/2188 [==============================] - 4s 2ms/step - loss: 0.1866 - accuracy: 0.9340 - val_loss: 0.1674 - val_accuracy: 0.9465\n",
      "Epoch 7/20\n",
      "2188/2188 [==============================] - 4s 2ms/step - loss: 0.1644 - accuracy: 0.9431 - val_loss: 0.1642 - val_accuracy: 0.9479\n",
      "Epoch 8/20\n",
      "2188/2188 [==============================] - 4s 2ms/step - loss: 0.1511 - accuracy: 0.9494 - val_loss: 0.1564 - val_accuracy: 0.9487\n",
      "Epoch 9/20\n",
      "2188/2188 [==============================] - 4s 2ms/step - loss: 0.1415 - accuracy: 0.9513 - val_loss: 0.1391 - val_accuracy: 0.9552\n",
      "Epoch 10/20\n",
      "2188/2188 [==============================] - 4s 2ms/step - loss: 0.1320 - accuracy: 0.9554 - val_loss: 0.1478 - val_accuracy: 0.9478\n",
      "Epoch 11/20\n",
      "2188/2188 [==============================] - 4s 2ms/step - loss: 0.1216 - accuracy: 0.9583 - val_loss: 0.1269 - val_accuracy: 0.9598\n",
      "Epoch 12/20\n",
      "2188/2188 [==============================] - 4s 2ms/step - loss: 0.1116 - accuracy: 0.9625 - val_loss: 0.1199 - val_accuracy: 0.9616\n",
      "Epoch 13/20\n",
      "2188/2188 [==============================] - 4s 2ms/step - loss: 0.1043 - accuracy: 0.9649 - val_loss: 0.1166 - val_accuracy: 0.9637\n",
      "Epoch 14/20\n",
      "2188/2188 [==============================] - 4s 2ms/step - loss: 0.1021 - accuracy: 0.9654 - val_loss: 0.1133 - val_accuracy: 0.9658\n",
      "Epoch 15/20\n",
      "2188/2188 [==============================] - 4s 2ms/step - loss: 0.0945 - accuracy: 0.9680 - val_loss: 0.1103 - val_accuracy: 0.9638\n",
      "Epoch 16/20\n",
      "2188/2188 [==============================] - 4s 2ms/step - loss: 0.0917 - accuracy: 0.9696 - val_loss: 0.1132 - val_accuracy: 0.9630\n",
      "Epoch 17/20\n",
      "2188/2188 [==============================] - 4s 2ms/step - loss: 0.0889 - accuracy: 0.9696 - val_loss: 0.1035 - val_accuracy: 0.9654\n",
      "Epoch 18/20\n",
      "2188/2188 [==============================] - 4s 2ms/step - loss: 0.0821 - accuracy: 0.9728 - val_loss: 0.1134 - val_accuracy: 0.9634\n",
      "Epoch 19/20\n",
      "2188/2188 [==============================] - 4s 2ms/step - loss: 0.0822 - accuracy: 0.9721 - val_loss: 0.1073 - val_accuracy: 0.9666\n",
      "Epoch 20/20\n",
      "2188/2188 [==============================] - 4s 2ms/step - loss: 0.0790 - accuracy: 0.9734 - val_loss: 0.0938 - val_accuracy: 0.9709\n",
      "Evaluation: \n",
      "938/938 [==============================] - 1s 1ms/step - loss: 0.0938 - accuracy: 0.9709\n",
      "mean_squared_error : 0.09377177059650421\n",
      "accuracy: 0.9709333181381226\n"
     ]
    }
   ],
   "source": [
    "from keras.models import Sequential\n",
    "from keras.layers import Dense, Activation\n",
    "\n",
    "model = Sequential()\n",
    "model.add(Dense(50, activation='relu', input_shape=(187,)))\n",
    "model.add(Dense(50, activation='relu'))\n",
    "model.add(Dense(5, activation='softmax'))\n",
    "\n",
    "model.compile(optimizer='adam',\n",
    "              loss='categorical_crossentropy',\n",
    "              metrics=['accuracy'])\n",
    "\n",
    "history=model.fit(X_train, y_train, epochs=20,validation_data=(X_valid, y_valid))\n",
    "\n",
    "print(\"Evaluation: \")\n",
    "mse, acc = model.evaluate(X_valid, y_valid)\n",
    "print('mean_squared_error :', mse)\n",
    "print('accuracy:', acc)\n",
    "\n"
   ]
  },
  {
   "cell_type": "code",
   "execution_count": 15,
   "id": "processed-sandwich",
   "metadata": {
    "execution": {
     "iopub.execute_input": "2022-02-19T21:14:32.723816Z",
     "iopub.status.busy": "2022-02-19T21:14:32.722824Z",
     "iopub.status.idle": "2022-02-19T21:14:32.997587Z",
     "shell.execute_reply": "2022-02-19T21:14:32.998122Z",
     "shell.execute_reply.started": "2022-02-19T21:11:41.774255Z"
    },
    "papermill": {
     "duration": 0.7175,
     "end_time": "2022-02-19T21:14:32.998305",
     "exception": false,
     "start_time": "2022-02-19T21:14:32.280805",
     "status": "completed"
    },
    "tags": []
   },
   "outputs": [
    {
     "name": "stdout",
     "output_type": "stream",
     "text": [
      "Minimum Validation Loss: 0.0938\n"
     ]
    },
    {
     "data": {
      "image/png": "[encoded data removed]",
      "text/plain": [
       "<Figure size 432x288 with 1 Axes>"
      ]
     },
     "metadata": {},
     "output_type": "display_data"
    }
   ],
   "source": [
    "history_df = pd.DataFrame(history.history)\n",
    "history_df = pd.DataFrame(history.history)\n",
    "history_df.loc[0:, ['loss', 'val_loss']].plot()\n",
    "print(\"Minimum Validation Loss: {:0.4f}\".format(history_df['val_loss'].min()));"
   ]
  }
 ],
 "metadata": {
  "kernelspec": {
   "display_name": "Python 3",
   "language": "python",
   "name": "python3"
  },
  "language_info": {
   "codemirror_mode": {
    "name": "ipython",
    "version": 3
   },
   "file_extension": ".py",
   "mimetype": "text/x-python",
   "name": "python",
   "nbconvert_exporter": "python",
   "pygments_lexer": "ipython3",
   "version": "3.7.10"
  },
  "papermill": {
   "default_parameters": {},
   "duration": 122.013031,
   "end_time": "2022-02-19T21:14:35.730328",
   "environment_variables": {},
   "exception": null,
   "input_path": "__notebook__.ipynb",
   "output_path": "__notebook__.ipynb",
   "parameters": {},
   "start_time": "2022-02-19T21:12:33.717297",
   "version": "2.3.3"
  }
 },
 "nbformat": 4,
 "nbformat_minor": 5
}
