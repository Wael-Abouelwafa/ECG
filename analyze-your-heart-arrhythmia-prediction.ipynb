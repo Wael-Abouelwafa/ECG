{
 "cells": [
  {
   "cell_type": "markdown",
   "id": "1b935eb8",
   "metadata": {
    "papermill": {
     "duration": 0.039671,
     "end_time": "2022-02-19T20:44:30.517922",
     "exception": false,
     "start_time": "2022-02-19T20:44:30.478251",
     "status": "completed"
    },
    "tags": []
   },
   "source": [
    "<center><h1 class=\"list-group-item list-group-item-success\">Arrhythmia Detection</h1></center>"
   ]
  },
  {
   "cell_type": "markdown",
   "id": "b2cc1207",
   "metadata": {
    "papermill": {
     "duration": 0.038592,
     "end_time": "2022-02-19T20:44:30.597728",
     "exception": false,
     "start_time": "2022-02-19T20:44:30.559136",
     "status": "completed"
    },
    "tags": []
   },
   "source": [
    "<center><img src = \"https://res.cloudinary.com/qna/image/upload/v1636913992/heart-arrhythmia_f8yxcp.jpg\"></center>\n",
    "\n",
    "<div style=\"background:#c72e57;color:#fff;padding:1em 2em 1.5em 2em;border-radius: 3px;font-weight:bold\">\n",
    "    <strong>\n",
    "        <h4 style = \"color:#fff\"><font size = 4>Research Objective</font></h4>\n",
    "    </strong>\n",
    "</div><br>\n",
    "<font size = 4>Comparing accuracy of Convolutional Neural Networks (CNN), Dense Neural Networks(DNN), Long Short Term Memory(LSTM) in arrhythmia detetction on graphical representation of electrocardiographic signals.</font><br><br><br>\n",
    "\n",
    "<div style=\"background:#c72e57;color:#fff;padding:1em 2em 1.5em 2em;border-radius: 3px;font-weight:bold\">\n",
    "    <strong>\n",
    "        <h4 style = \"color:#fff\"><font size = 4>Data Description</font></h4>\n",
    "    </strong>\n",
    "</div><br>\n",
    "<font size = 4>The MIT-BIH Arrhythmia Database contains 48 half-hour excerpts of two-channel ambulatory ECG recordings, obtained from 47 subjects studied by the BIH Arrhythmia Laboratory between 1975 and 1979. Twenty-three recordings were chosen at random from a set of 4000 24-hour ambulatory ECG recordings collected from a mixed population of inpatients (about 60%) and outpatients (about 40%) at Boston's Beth Israel Hospital; the remaining 25 recordings were selected from the same set to include less common but clinically significant arrhythmias that would not be well-represented in a small random sample.<br>\n",
    "\n",
    "The recordings were digitized at 360 samples per second per channel with 11-bit resolution over a 10 mV range. Two or more cardiologists independently annotated each record; disagreements were resolved to obtain the computer-readable reference annotations for each beat (approximately 110,000 annotations in all) included with the database.\n",
    "Predict if a heart beat from the first ECG signal has an arrhythmia for each 6 second window centered on the peak of the heart beat.<br>\n",
    "\n",
    "To simplify the problem, we will assume that a QRS detector is capable of automatically identifying the peak of each heart beat. We will ignore any non-beat annotations and any heart beats in the first or last 3 seconds of the recording due to reduced data. We will use a window of 6 seconds so we can compare the current beat to beats just before and after. This decision was based after talking to a physician who said it is easier to identify if you have something to compare it to.</font><br><br><br>\n",
    "\n",
    "<div style=\"background:#c72e57;color:#fff;padding:1em 2em 1.5em 2em;border-radius: 3px;font-weight:bold\">\n",
    "    <strong>\n",
    "        <h4 style = \"color:#fff\"><font size = 4>Contents</font></h4>\n",
    "    </strong>\n",
    "</div><br>\n",
    "<font size = 3.5 color = \"blue\">\n",
    "<li>Importing Packages</li><br>\n",
    "<li>Importing Data</li><br>\n",
    "<li>Analysing Data</li><br>\n",
    "<li>Data Transformation</li><br>\n",
    "<li>Data Visualization</li><br>\n",
    "<li>Data Preprocessing</li><br>\n",
    "<li>Training Models</li><br>\n",
    "<li>Evaluation Metrics</li><br>\n",
    "</font>"
   ]
  },
  {
   "cell_type": "markdown",
   "id": "9345232e",
   "metadata": {
    "papermill": {
     "duration": 0.038658,
     "end_time": "2022-02-19T20:44:30.675317",
     "exception": false,
     "start_time": "2022-02-19T20:44:30.636659",
     "status": "completed"
    },
    "tags": []
   },
   "source": [
    "<div style=\"background:#c72e57;color:#fff;padding:1em 2em 1.5em 2em;border-radius: 3px;font-weight:bold\">\n",
    "    <strong>\n",
    "        <h4 style = \"color:#fff\"><font size = 4>Importing Packages</font></h4>\n",
    "    </strong>\n",
    "</div>"
   ]
  },
  {
   "cell_type": "code",
   "execution_count": 1,
   "id": "14d4d0d9",
   "metadata": {
    "execution": {
     "iopub.execute_input": "2022-02-19T20:44:30.761369Z",
     "iopub.status.busy": "2022-02-19T20:44:30.759474Z",
     "iopub.status.idle": "2022-02-19T20:44:38.679037Z",
     "shell.execute_reply": "2022-02-19T20:44:38.677857Z",
     "shell.execute_reply.started": "2022-02-19T19:41:20.885425Z"
    },
    "papermill": {
     "duration": 7.964907,
     "end_time": "2022-02-19T20:44:38.679238",
     "exception": false,
     "start_time": "2022-02-19T20:44:30.714331",
     "status": "completed"
    },
    "tags": []
   },
   "outputs": [],
   "source": [
    "# Importing Required Packages\n",
    "import pandas as pd\n",
    "import numpy as np\n",
    "import matplotlib.pyplot as plt\n",
    "from keras.layers import Conv1D\n",
    "import wfdb                            # Package for loading the ecg and annotation\n",
    "from sklearn.model_selection import train_test_split\n",
    "from keras.models import Sequential\n",
    "from keras.layers import Dense, Flatten, Dropout\n",
    "from tensorflow.keras.utils import to_categorical\n",
    "from sklearn.metrics import roc_auc_score, accuracy_score, precision_score, recall_score\n",
    "import warnings\n",
    "warnings.filterwarnings(\"ignore\") \n",
    "import random\n",
    "from keras.layers import Bidirectional, LSTM\n",
    "# Random Initialization\n",
    "random.seed(42)"
   ]
  },
  {
   "cell_type": "markdown",
   "id": "f77d8904",
   "metadata": {
    "papermill": {
     "duration": 0.03825,
     "end_time": "2022-02-19T20:44:38.757535",
     "exception": false,
     "start_time": "2022-02-19T20:44:38.719285",
     "status": "completed"
    },
    "tags": []
   },
   "source": [
    "<div style=\"background:#c72e57;color:#fff;padding:1em 2em 1.5em 2em;border-radius: 3px;font-weight:bold\">\n",
    "    <strong>\n",
    "        <h4 style = \"color:#fff\"><font size = 4>Importing Data</font></h4>\n",
    "    </strong>\n",
    "</div>"
   ]
  },
  {
   "cell_type": "code",
   "execution_count": 2,
   "id": "1a64e06f",
   "metadata": {
    "execution": {
     "iopub.execute_input": "2022-02-19T20:44:38.839831Z",
     "iopub.status.busy": "2022-02-19T20:44:38.838774Z",
     "iopub.status.idle": "2022-02-19T20:44:38.843046Z",
     "shell.execute_reply": "2022-02-19T20:44:38.843707Z",
     "shell.execute_reply.started": "2022-02-19T19:41:27.632374Z"
    },
    "papermill": {
     "duration": 0.047077,
     "end_time": "2022-02-19T20:44:38.843902",
     "exception": false,
     "start_time": "2022-02-19T20:44:38.796825",
     "status": "completed"
    },
    "tags": []
   },
   "outputs": [],
   "source": [
    "# Importing Data\n",
    "data = '../input/mit-bih-arrhythmia-database/'"
   ]
  },
  {
   "cell_type": "code",
   "execution_count": 3,
   "id": "c6f5a148",
   "metadata": {
    "execution": {
     "iopub.execute_input": "2022-02-19T20:44:38.924223Z",
     "iopub.status.busy": "2022-02-19T20:44:38.923513Z",
     "iopub.status.idle": "2022-02-19T20:44:38.929405Z",
     "shell.execute_reply": "2022-02-19T20:44:38.929907Z",
     "shell.execute_reply.started": "2022-02-19T19:41:27.639435Z"
    },
    "papermill": {
     "duration": 0.047586,
     "end_time": "2022-02-19T20:44:38.930101",
     "exception": false,
     "start_time": "2022-02-19T20:44:38.882515",
     "status": "completed"
    },
    "tags": []
   },
   "outputs": [],
   "source": [
    "# List of Patients\n",
    "patients = ['100','101','102','103','104','105','106','107',\n",
    "           '108','109','111','112','113','114','115','116',\n",
    "           '117','118','119','121','122','123','124','200',\n",
    "           '201','202','203','205','207','208','209','210',\n",
    "           '212','213','214','215','217','219','220','221',\n",
    "           '222','223','228','230','231','232','233','234']"
   ]
  },
  {
   "cell_type": "markdown",
   "id": "9068520d",
   "metadata": {
    "papermill": {
     "duration": 0.038418,
     "end_time": "2022-02-19T20:44:39.008754",
     "exception": false,
     "start_time": "2022-02-19T20:44:38.970336",
     "status": "completed"
    },
    "tags": []
   },
   "source": [
    "<div style=\"background:#c72e57;color:#fff;padding:1em 2em 1.5em 2em;border-radius: 3px;font-weight:bold\">\n",
    "    <strong>\n",
    "        <h4 style = \"color:#fff\"><font size = 4>Analysing Data</font></h4>\n",
    "    </strong>\n",
    "</div>"
   ]
  },
  {
   "cell_type": "code",
   "execution_count": 4,
   "id": "6f9205f1",
   "metadata": {
    "execution": {
     "iopub.execute_input": "2022-02-19T20:44:39.097640Z",
     "iopub.status.busy": "2022-02-19T20:44:39.096703Z",
     "iopub.status.idle": "2022-02-19T20:44:42.552710Z",
     "shell.execute_reply": "2022-02-19T20:44:42.553448Z",
     "shell.execute_reply.started": "2022-02-19T19:41:27.658418Z"
    },
    "papermill": {
     "duration": 3.505064,
     "end_time": "2022-02-19T20:44:42.553650",
     "exception": false,
     "start_time": "2022-02-19T20:44:39.048586",
     "status": "completed"
    },
    "tags": []
   },
   "outputs": [],
   "source": [
    "# Creating a Empty Dataframe\n",
    "symbols_df = pd.DataFrame()\n",
    "\n",
    "# Reading all .atr files \n",
    "for pts in patients:\n",
    "    # Generating filepath for all .atr file names\n",
    "    file = data + pts\n",
    "    # Saving annotation object\n",
    "    annotation = wfdb.rdann(file, 'atr')\n",
    "    # Extracting symbols from the object\n",
    "    sym = annotation.symbol\n",
    "    # Saving value counts\n",
    "    values, counts = np.unique(sym, return_counts=True)\n",
    "    # Writing data points into dataframe\n",
    "    df_sub = pd.DataFrame({'symbol':values, 'Counts':counts, 'Patient Number':[pts]*len(counts)})\n",
    "    # Concatenating all data points  \n",
    "    symbols_df = pd.concat([symbols_df, df_sub],axis = 0)"
   ]
  },
  {
   "cell_type": "code",
   "execution_count": 5,
   "id": "9317f503",
   "metadata": {
    "execution": {
     "iopub.execute_input": "2022-02-19T20:44:42.648779Z",
     "iopub.status.busy": "2022-02-19T20:44:42.647952Z",
     "iopub.status.idle": "2022-02-19T20:44:42.663375Z",
     "shell.execute_reply": "2022-02-19T20:44:42.663937Z",
     "shell.execute_reply.started": "2022-02-19T19:41:31.469971Z"
    },
    "papermill": {
     "duration": 0.06527,
     "end_time": "2022-02-19T20:44:42.664117",
     "exception": false,
     "start_time": "2022-02-19T20:44:42.598847",
     "status": "completed"
    },
    "scrolled": true,
    "tags": []
   },
   "outputs": [
    {
     "data": {
      "text/html": [
       "<div>\n",
       "<style scoped>\n",
       "    .dataframe tbody tr th:only-of-type {\n",
       "        vertical-align: middle;\n",
       "    }\n",
       "\n",
       "    .dataframe tbody tr th {\n",
       "        vertical-align: top;\n",
       "    }\n",
       "\n",
       "    .dataframe thead th {\n",
       "        text-align: right;\n",
       "    }\n",
       "</style>\n",
       "<table border=\"1\" class=\"dataframe\">\n",
       "  <thead>\n",
       "    <tr style=\"text-align: right;\">\n",
       "      <th></th>\n",
       "      <th>symbol</th>\n",
       "      <th>Counts</th>\n",
       "      <th>Patient Number</th>\n",
       "    </tr>\n",
       "  </thead>\n",
       "  <tbody>\n",
       "    <tr>\n",
       "      <th>0</th>\n",
       "      <td>+</td>\n",
       "      <td>1</td>\n",
       "      <td>100</td>\n",
       "    </tr>\n",
       "    <tr>\n",
       "      <th>1</th>\n",
       "      <td>A</td>\n",
       "      <td>33</td>\n",
       "      <td>100</td>\n",
       "    </tr>\n",
       "    <tr>\n",
       "      <th>2</th>\n",
       "      <td>N</td>\n",
       "      <td>2239</td>\n",
       "      <td>100</td>\n",
       "    </tr>\n",
       "    <tr>\n",
       "      <th>3</th>\n",
       "      <td>V</td>\n",
       "      <td>1</td>\n",
       "      <td>100</td>\n",
       "    </tr>\n",
       "    <tr>\n",
       "      <th>0</th>\n",
       "      <td>+</td>\n",
       "      <td>1</td>\n",
       "      <td>101</td>\n",
       "    </tr>\n",
       "    <tr>\n",
       "      <th>...</th>\n",
       "      <td>...</td>\n",
       "      <td>...</td>\n",
       "      <td>...</td>\n",
       "    </tr>\n",
       "    <tr>\n",
       "      <th>0</th>\n",
       "      <td>+</td>\n",
       "      <td>3</td>\n",
       "      <td>234</td>\n",
       "    </tr>\n",
       "    <tr>\n",
       "      <th>1</th>\n",
       "      <td>J</td>\n",
       "      <td>50</td>\n",
       "      <td>234</td>\n",
       "    </tr>\n",
       "    <tr>\n",
       "      <th>2</th>\n",
       "      <td>N</td>\n",
       "      <td>2700</td>\n",
       "      <td>234</td>\n",
       "    </tr>\n",
       "    <tr>\n",
       "      <th>3</th>\n",
       "      <td>V</td>\n",
       "      <td>3</td>\n",
       "      <td>234</td>\n",
       "    </tr>\n",
       "    <tr>\n",
       "      <th>4</th>\n",
       "      <td>~</td>\n",
       "      <td>8</td>\n",
       "      <td>234</td>\n",
       "    </tr>\n",
       "  </tbody>\n",
       "</table>\n",
       "<p>283 rows × 3 columns</p>\n",
       "</div>"
      ],
      "text/plain": [
       "   symbol  Counts Patient Number\n",
       "0       +       1            100\n",
       "1       A      33            100\n",
       "2       N    2239            100\n",
       "3       V       1            100\n",
       "0       +       1            101\n",
       "..    ...     ...            ...\n",
       "0       +       3            234\n",
       "1       J      50            234\n",
       "2       N    2700            234\n",
       "3       V       3            234\n",
       "4       ~       8            234\n",
       "\n",
       "[283 rows x 3 columns]"
      ]
     },
     "execution_count": 5,
     "metadata": {},
     "output_type": "execute_result"
    }
   ],
   "source": [
    "# Symbols Dataframe\n",
    "symbols_df"
   ]
  },
  {
   "cell_type": "code",
   "execution_count": 6,
   "id": "becad302",
   "metadata": {
    "execution": {
     "iopub.execute_input": "2022-02-19T20:44:42.815407Z",
     "iopub.status.busy": "2022-02-19T20:44:42.814302Z",
     "iopub.status.idle": "2022-02-19T20:44:42.826589Z",
     "shell.execute_reply": "2022-02-19T20:44:42.827100Z",
     "shell.execute_reply.started": "2022-02-19T19:41:31.490199Z"
    },
    "papermill": {
     "duration": 0.055983,
     "end_time": "2022-02-19T20:44:42.827307",
     "exception": false,
     "start_time": "2022-02-19T20:44:42.771324",
     "status": "completed"
    },
    "tags": []
   },
   "outputs": [
    {
     "data": {
      "text/plain": [
       "symbol\n",
       "N    75052\n",
       "L     8075\n",
       "R     7259\n",
       "V     7130\n",
       "/     7028\n",
       "A     2546\n",
       "+     1291\n",
       "f      982\n",
       "F      803\n",
       "~      616\n",
       "!      472\n",
       "\"      437\n",
       "j      229\n",
       "x      193\n",
       "a      150\n",
       "|      132\n",
       "E      106\n",
       "J       83\n",
       "Q       33\n",
       "e       16\n",
       "[        6\n",
       "]        6\n",
       "S        2\n",
       "Name: Counts, dtype: int64"
      ]
     },
     "execution_count": 6,
     "metadata": {},
     "output_type": "execute_result"
    }
   ],
   "source": [
    "# Value Counts of Different symbols in data\n",
    "symbols_df.groupby('symbol').Counts.sum().sort_values(ascending = False)"
   ]
  },
  {
   "cell_type": "markdown",
   "id": "6151d6fd",
   "metadata": {
    "papermill": {
     "duration": 0.038989,
     "end_time": "2022-02-19T20:44:42.905806",
     "exception": false,
     "start_time": "2022-02-19T20:44:42.866817",
     "status": "completed"
    },
    "tags": []
   },
   "source": [
    "<div style=\"background:#c72e57;color:#fff;padding:1em 2em 1.5em 2em;border-radius: 3px;font-weight:bold\">\n",
    "    <strong>\n",
    "        <h4 style = \"color:#fff\"><font size = 4>Data Transformation</font></h4>\n",
    "    </strong>\n",
    "</div>"
   ]
  },
  {
   "cell_type": "code",
   "execution_count": 7,
   "id": "3c655f07",
   "metadata": {
    "execution": {
     "iopub.execute_input": "2022-02-19T20:44:42.989447Z",
     "iopub.status.busy": "2022-02-19T20:44:42.988332Z",
     "iopub.status.idle": "2022-02-19T20:44:42.994301Z",
     "shell.execute_reply": "2022-02-19T20:44:42.994801Z",
     "shell.execute_reply.started": "2022-02-19T19:41:31.502766Z"
    },
    "papermill": {
     "duration": 0.0495,
     "end_time": "2022-02-19T20:44:42.994998",
     "exception": false,
     "start_time": "2022-02-19T20:44:42.945498",
     "status": "completed"
    },
    "tags": []
   },
   "outputs": [],
   "source": [
    "# Non Beat Symbols\n",
    "nonbeat = ['[','!',']','x','(',')','p','t','u','`',\n",
    "           '\\'','^','|','~','+','s','T','*','D','=','\"','@','Q','?']\n",
    "\n",
    "# Abnormal Beat Symbols\n",
    "abnormal = ['L','R','V','/','A','f','F','j','a','E','J','e','S']\n",
    "\n",
    "# Normal Beat Symbols\n",
    "normal = ['N']"
   ]
  },
  {
   "cell_type": "code",
   "execution_count": 8,
   "id": "47b6223f",
   "metadata": {
    "execution": {
     "iopub.execute_input": "2022-02-19T20:44:43.079478Z",
     "iopub.status.busy": "2022-02-19T20:44:43.078379Z",
     "iopub.status.idle": "2022-02-19T20:44:43.085728Z",
     "shell.execute_reply": "2022-02-19T20:44:43.086250Z",
     "shell.execute_reply.started": "2022-02-19T19:41:31.511985Z"
    },
    "papermill": {
     "duration": 0.051241,
     "end_time": "2022-02-19T20:44:43.086439",
     "exception": false,
     "start_time": "2022-02-19T20:44:43.035198",
     "status": "completed"
    },
    "tags": []
   },
   "outputs": [],
   "source": [
    "# Classifying normal, abnormal or nonbeat\n",
    "symbols_df['category'] = -1\n",
    "symbols_df.loc[symbols_df.symbol == 'N','category'] = 0\n",
    "symbols_df.loc[symbols_df.symbol.isin(abnormal), 'category'] = 1"
   ]
  },
  {
   "cell_type": "code",
   "execution_count": 9,
   "id": "21d0ae76",
   "metadata": {
    "execution": {
     "iopub.execute_input": "2022-02-19T20:44:43.173297Z",
     "iopub.status.busy": "2022-02-19T20:44:43.172315Z",
     "iopub.status.idle": "2022-02-19T20:44:43.175724Z",
     "shell.execute_reply": "2022-02-19T20:44:43.176240Z",
     "shell.execute_reply.started": "2022-02-19T19:41:31.529652Z"
    },
    "papermill": {
     "duration": 0.050946,
     "end_time": "2022-02-19T20:44:43.176416",
     "exception": false,
     "start_time": "2022-02-19T20:44:43.125470",
     "status": "completed"
    },
    "tags": []
   },
   "outputs": [
    {
     "data": {
      "text/plain": [
       "category\n",
       "-1     3186\n",
       " 0    75052\n",
       " 1    34409\n",
       "Name: Counts, dtype: int64"
      ]
     },
     "execution_count": 9,
     "metadata": {},
     "output_type": "execute_result"
    }
   ],
   "source": [
    "# Value counts of different categories\n",
    "symbols_df.groupby('category').Counts.sum()"
   ]
  },
  {
   "cell_type": "code",
   "execution_count": 10,
   "id": "20ff9737",
   "metadata": {
    "execution": {
     "iopub.execute_input": "2022-02-19T20:44:43.259104Z",
     "iopub.status.busy": "2022-02-19T20:44:43.258089Z",
     "iopub.status.idle": "2022-02-19T20:44:43.263356Z",
     "shell.execute_reply": "2022-02-19T20:44:43.263840Z",
     "shell.execute_reply.started": "2022-02-19T19:41:31.548162Z"
    },
    "papermill": {
     "duration": 0.048301,
     "end_time": "2022-02-19T20:44:43.264023",
     "exception": false,
     "start_time": "2022-02-19T20:44:43.215722",
     "status": "completed"
    },
    "tags": []
   },
   "outputs": [],
   "source": [
    "def load_ecg(file):    \n",
    "    # load the ecg\n",
    "    record = wfdb.rdrecord(file)\n",
    "    # load the annotation\n",
    "    annotation = wfdb.rdann(file, 'atr')\n",
    "    \n",
    "    # extracting the signal\n",
    "    p_signal = record.p_signal\n",
    "\n",
    "    # extracting symbols and annotation index\n",
    "    atr_sym = annotation.symbol\n",
    "    atr_sample = annotation.sample\n",
    "    \n",
    "    return p_signal, atr_sym, atr_sample"
   ]
  },
  {
   "cell_type": "code",
   "execution_count": 11,
   "id": "90becd18",
   "metadata": {
    "execution": {
     "iopub.execute_input": "2022-02-19T20:44:43.348886Z",
     "iopub.status.busy": "2022-02-19T20:44:43.347811Z",
     "iopub.status.idle": "2022-02-19T20:44:43.350939Z",
     "shell.execute_reply": "2022-02-19T20:44:43.350288Z",
     "shell.execute_reply.started": "2022-02-19T19:41:31.554595Z"
    },
    "papermill": {
     "duration": 0.04748,
     "end_time": "2022-02-19T20:44:43.351088",
     "exception": false,
     "start_time": "2022-02-19T20:44:43.303608",
     "status": "completed"
    },
    "tags": []
   },
   "outputs": [],
   "source": [
    "# Accessing the ecg points for \n",
    "file = data + patients[8]"
   ]
  },
  {
   "cell_type": "code",
   "execution_count": 12,
   "id": "d21237ba",
   "metadata": {
    "execution": {
     "iopub.execute_input": "2022-02-19T20:44:43.437888Z",
     "iopub.status.busy": "2022-02-19T20:44:43.437083Z",
     "iopub.status.idle": "2022-02-19T20:44:43.591780Z",
     "shell.execute_reply": "2022-02-19T20:44:43.591085Z",
     "shell.execute_reply.started": "2022-02-19T19:41:31.564838Z"
    },
    "papermill": {
     "duration": 0.201225,
     "end_time": "2022-02-19T20:44:43.591951",
     "exception": false,
     "start_time": "2022-02-19T20:44:43.390726",
     "status": "completed"
    },
    "tags": []
   },
   "outputs": [],
   "source": [
    "# Accessing the load ECG function and getting annotation.symbol, annotation.sample, signals\n",
    "p_signal, atr_sym, atr_sample = load_ecg(file)"
   ]
  },
  {
   "cell_type": "code",
   "execution_count": 13,
   "id": "7a7fad21",
   "metadata": {
    "execution": {
     "iopub.execute_input": "2022-02-19T20:44:43.681818Z",
     "iopub.status.busy": "2022-02-19T20:44:43.681023Z",
     "iopub.status.idle": "2022-02-19T20:44:43.686747Z",
     "shell.execute_reply": "2022-02-19T20:44:43.687456Z",
     "shell.execute_reply.started": "2022-02-19T19:41:31.705996Z"
    },
    "papermill": {
     "duration": 0.053637,
     "end_time": "2022-02-19T20:44:43.687657",
     "exception": false,
     "start_time": "2022-02-19T20:44:43.634020",
     "status": "completed"
    },
    "tags": []
   },
   "outputs": [
    {
     "name": "stdout",
     "output_type": "stream",
     "text": [
      "+ 3\n",
      "J 50\n",
      "N 2700\n",
      "V 3\n",
      "~ 8\n"
     ]
    }
   ],
   "source": [
    "# Analysing annotations value counts for a single record\n",
    "values, counts = np.unique(sym, return_counts=True)\n",
    "for v,c in zip(values, counts):\n",
    "    print(v,c)"
   ]
  },
  {
   "cell_type": "markdown",
   "id": "b170ea2b",
   "metadata": {
    "papermill": {
     "duration": 0.044098,
     "end_time": "2022-02-19T20:44:43.771798",
     "exception": false,
     "start_time": "2022-02-19T20:44:43.727700",
     "status": "completed"
    },
    "tags": []
   },
   "source": [
    "<div style=\"background:#c72e57;color:#fff;padding:1em 2em 1.5em 2em;border-radius: 3px;font-weight:bold\">\n",
    "    <strong>\n",
    "        <h4 style = \"color:#fff\"><font size = 4>Data Visualization</font></h4>\n",
    "    </strong>\n",
    "</div>"
   ]
  },
  {
   "cell_type": "code",
   "execution_count": 14,
   "id": "b3917d74",
   "metadata": {
    "execution": {
     "iopub.execute_input": "2022-02-19T20:44:43.858118Z",
     "iopub.status.busy": "2022-02-19T20:44:43.857372Z",
     "iopub.status.idle": "2022-02-19T20:44:43.866032Z",
     "shell.execute_reply": "2022-02-19T20:44:43.865414Z",
     "shell.execute_reply.started": "2022-02-19T19:41:31.716183Z"
    },
    "papermill": {
     "duration": 0.052974,
     "end_time": "2022-02-19T20:44:43.866203",
     "exception": false,
     "start_time": "2022-02-19T20:44:43.813229",
     "status": "completed"
    },
    "tags": []
   },
   "outputs": [
    {
     "data": {
      "text/plain": [
       "[4105, 10876, 83824, 107330, 180041, 180621, 193553, 205731, 221206, 263192]"
      ]
     },
     "execution_count": 14,
     "metadata": {},
     "output_type": "execute_result"
    }
   ],
   "source": [
    "# get abnormal beat index\n",
    "ab_index = [b for a,b in zip(atr_sym,atr_sample) if a in abnormal][:10]\n",
    "ab_index"
   ]
  },
  {
   "cell_type": "code",
   "execution_count": 15,
   "id": "c7efd565",
   "metadata": {
    "execution": {
     "iopub.execute_input": "2022-02-19T20:44:43.961956Z",
     "iopub.status.busy": "2022-02-19T20:44:43.961082Z",
     "iopub.status.idle": "2022-02-19T20:44:44.518822Z",
     "shell.execute_reply": "2022-02-19T20:44:44.519374Z",
     "shell.execute_reply.started": "2022-02-19T19:41:31.732033Z"
    },
    "papermill": {
     "duration": 0.609664,
     "end_time": "2022-02-19T20:44:44.519554",
     "exception": false,
     "start_time": "2022-02-19T20:44:43.909890",
     "status": "completed"
    },
    "tags": []
   },
   "outputs": [
    {
     "data": {
      "image/png": "[encoded data removed]",
      "text/plain": [
       "<Figure size 1440x576 with 1 Axes>"
      ]
     },
     "metadata": {
      "needs_background": "light"
     },
     "output_type": "display_data"
    }
   ],
   "source": [
    "# Generating evenly spaced values\n",
    "x = np.arange(len(p_signal))\n",
    "\n",
    "left = ab_index[5]-20000\n",
    "right = ab_index[5]+20000\n",
    "\n",
    "plt.figure(figsize=(20,8))\n",
    "plt.plot(x[left:right],p_signal[left:right,0],'-',label='ecg',)\n",
    "plt.plot(x[atr_sample],p_signal[atr_sample,0],'go',label ='normal')\n",
    "plt.plot(x[ab_index],p_signal[ab_index,0],'ro',label='abnormal')\n",
    "\n",
    "plt.xlim(left,right)\n",
    "plt.ylim(p_signal[left:right].min()-0.05,p_signal[left:right,0].max()+0.05)\n",
    "plt.xlabel('time index')\n",
    "plt.ylabel('ECG signal')\n",
    "plt.legend(bbox_to_anchor = (1.04,1), loc = 'upper left')\n",
    "plt.show()"
   ]
  },
  {
   "cell_type": "markdown",
   "id": "a26d8e0a",
   "metadata": {
    "papermill": {
     "duration": 0.043326,
     "end_time": "2022-02-19T20:44:44.609197",
     "exception": false,
     "start_time": "2022-02-19T20:44:44.565871",
     "status": "completed"
    },
    "tags": []
   },
   "source": [
    "<div style=\"background:#c72e57;color:#fff;padding:1em 2em 1.5em 2em;border-radius: 3px;font-weight:bold\">\n",
    "    <strong>\n",
    "        <h4 style = \"color:#fff\"><font size = 4>Data Preprocessing</font></h4>\n",
    "    </strong>\n",
    "</div>"
   ]
  },
  {
   "cell_type": "code",
   "execution_count": 16,
   "id": "593c7602",
   "metadata": {
    "execution": {
     "iopub.execute_input": "2022-02-19T20:44:44.706488Z",
     "iopub.status.busy": "2022-02-19T20:44:44.705692Z",
     "iopub.status.idle": "2022-02-19T20:44:44.710062Z",
     "shell.execute_reply": "2022-02-19T20:44:44.710705Z",
     "shell.execute_reply.started": "2022-02-19T19:41:32.281833Z"
    },
    "papermill": {
     "duration": 0.057768,
     "end_time": "2022-02-19T20:44:44.710912",
     "exception": false,
     "start_time": "2022-02-19T20:44:44.653144",
     "status": "completed"
    },
    "tags": []
   },
   "outputs": [],
   "source": [
    "def make_dataset(pts, num_sec, fs, abnormal):\n",
    "    # function for making dataset ignoring non-beats\n",
    "    # input:\n",
    "    #   pts - list of patients\n",
    "    #   num_sec = number of seconds to include before and after the beat\n",
    "    #   fs = frequency\n",
    "    # output: \n",
    "    #   X_all = signal (nbeats , num_sec * fs columns)\n",
    "    #   Y_all = binary is abnormal (nbeats, 1)\n",
    "    #   sym_all = beat annotation symbol (nbeats,1)\n",
    "    \n",
    "    # initialize numpy arrays\n",
    "    num_cols = 2*num_sec * fs\n",
    "    X_all = np.zeros((1,num_cols))\n",
    "    Y_all = np.zeros((1,1))\n",
    "    sym_all = []\n",
    "    \n",
    "    # list to keep track of number of beats across patients\n",
    "    max_rows = []\n",
    "    \n",
    "    for pt in pts:\n",
    "        file = data + pt\n",
    "        \n",
    "        p_signal, atr_sym, atr_sample = load_ecg(file)\n",
    "        \n",
    "        # grab the first signal\n",
    "        p_signal = p_signal[:,0]\n",
    "        \n",
    "        # make df to exclude the nonbeats\n",
    "        df_ann = pd.DataFrame({'atr_sym':atr_sym,\n",
    "                              'atr_sample':atr_sample})\n",
    "        df_ann = df_ann.loc[df_ann.atr_sym.isin(abnormal + ['N'])]\n",
    "        \n",
    "        X,Y,sym = build_XY(p_signal,df_ann, num_cols, abnormal)\n",
    "        sym_all = sym_all+sym\n",
    "        max_rows.append(X.shape[0])\n",
    "        X_all = np.append(X_all,X,axis = 0)\n",
    "        Y_all = np.append(Y_all,Y,axis = 0)\n",
    "        \n",
    "    # drop the first zero row\n",
    "    X_all = X_all[1:,:]\n",
    "    Y_all = Y_all[1:,:]\n",
    "\n",
    "    return X_all, Y_all, sym_all\n"
   ]
  },
  {
   "cell_type": "code",
   "execution_count": 17,
   "id": "2f8fd9e1",
   "metadata": {
    "execution": {
     "iopub.execute_input": "2022-02-19T20:44:44.808490Z",
     "iopub.status.busy": "2022-02-19T20:44:44.807466Z",
     "iopub.status.idle": "2022-02-19T20:44:44.816978Z",
     "shell.execute_reply": "2022-02-19T20:44:44.816372Z",
     "shell.execute_reply.started": "2022-02-19T19:41:32.296021Z"
    },
    "papermill": {
     "duration": 0.058147,
     "end_time": "2022-02-19T20:44:44.817165",
     "exception": false,
     "start_time": "2022-02-19T20:44:44.759018",
     "status": "completed"
    },
    "tags": []
   },
   "outputs": [],
   "source": [
    "def build_XY(p_signal, df_ann, num_cols, abnormal):\n",
    "    # this function builds the X,Y matrices for each beat\n",
    "    # it also returns the original symbols for Y\n",
    "    \n",
    "    num_rows = len(df_ann)\n",
    "\n",
    "    X = np.zeros((num_rows, num_cols))\n",
    "    Y = np.zeros((num_rows,1))\n",
    "    sym = []\n",
    "    \n",
    "    # keep track of rows\n",
    "    max_row = 0\n",
    "\n",
    "    for atr_sample, atr_sym in zip(df_ann.atr_sample.values,df_ann.atr_sym.values):\n",
    "\n",
    "        left = max([0,(atr_sample - num_sec*fs) ])\n",
    "        right = min([len(p_signal),(atr_sample + num_sec*fs) ])\n",
    "        x = p_signal[left: right]\n",
    "        if len(x) == num_cols:\n",
    "            X[max_row,:] = x\n",
    "            Y[max_row,:] = int(atr_sym in abnormal)\n",
    "            sym.append(atr_sym)\n",
    "            max_row += 1\n",
    "    X = X[:max_row,:]\n",
    "    Y = Y[:max_row,:]\n",
    "    return X,Y,sym"
   ]
  },
  {
   "cell_type": "code",
   "execution_count": 18,
   "id": "06df4694",
   "metadata": {
    "execution": {
     "iopub.execute_input": "2022-02-19T20:44:44.913508Z",
     "iopub.status.busy": "2022-02-19T20:44:44.912573Z",
     "iopub.status.idle": "2022-02-19T20:44:44.915788Z",
     "shell.execute_reply": "2022-02-19T20:44:44.915185Z",
     "shell.execute_reply.started": "2022-02-19T19:41:32.311952Z"
    },
    "papermill": {
     "duration": 0.053813,
     "end_time": "2022-02-19T20:44:44.915941",
     "exception": false,
     "start_time": "2022-02-19T20:44:44.862128",
     "status": "completed"
    },
    "tags": []
   },
   "outputs": [],
   "source": [
    "# Parameter Values\n",
    "num_sec = 3\n",
    "fs = 360"
   ]
  },
  {
   "cell_type": "code",
   "execution_count": 19,
   "id": "c758a28c",
   "metadata": {
    "execution": {
     "iopub.execute_input": "2022-02-19T20:44:45.010106Z",
     "iopub.status.busy": "2022-02-19T20:44:45.009460Z",
     "iopub.status.idle": "2022-02-19T20:45:11.315667Z",
     "shell.execute_reply": "2022-02-19T20:45:11.315037Z",
     "shell.execute_reply.started": "2022-02-19T19:41:32.327704Z"
    },
    "papermill": {
     "duration": 26.355207,
     "end_time": "2022-02-19T20:45:11.315847",
     "exception": false,
     "start_time": "2022-02-19T20:44:44.960640",
     "status": "completed"
    },
    "tags": []
   },
   "outputs": [],
   "source": [
    "# Accessing the fuction and creating a dataset with ECG digital Points\n",
    "X_all, Y_all, sym_all = make_dataset(patients, num_sec, fs, abnormal)"
   ]
  },
  {
   "cell_type": "code",
   "execution_count": 20,
   "id": "8d768440",
   "metadata": {
    "execution": {
     "iopub.execute_input": "2022-02-19T20:45:11.416615Z",
     "iopub.status.busy": "2022-02-19T20:45:11.415771Z",
     "iopub.status.idle": "2022-02-19T20:45:12.021585Z",
     "shell.execute_reply": "2022-02-19T20:45:12.022210Z",
     "shell.execute_reply.started": "2022-02-19T19:41:57.128499Z"
    },
    "papermill": {
     "duration": 0.659135,
     "end_time": "2022-02-19T20:45:12.022450",
     "exception": false,
     "start_time": "2022-02-19T20:45:11.363315",
     "status": "completed"
    },
    "tags": []
   },
   "outputs": [],
   "source": [
    "# Train Test Split\n",
    "X_train, X_valid, y_train, y_valid = train_test_split(X_all, Y_all, test_size=0.33, random_state=42)"
   ]
  },
  {
   "cell_type": "markdown",
   "id": "55c1e06f",
   "metadata": {
    "papermill": {
     "duration": 0.054873,
     "end_time": "2022-02-19T20:45:12.127589",
     "exception": false,
     "start_time": "2022-02-19T20:45:12.072716",
     "status": "completed"
    },
    "tags": []
   },
   "source": [
    "<div style=\"background:#c72e57;color:#fff;padding:1em 2em 1.5em 2em;border-radius: 3px;font-weight:bold\">\n",
    "    <strong>\n",
    "        <h4 style = \"color:#fff\"><font size = 4>Training Models</font></h4>\n",
    "    </strong>\n",
    "</div>"
   ]
  },
  {
   "cell_type": "markdown",
   "id": "ff49c93c",
   "metadata": {
    "papermill": {
     "duration": 0.043921,
     "end_time": "2022-02-19T20:45:12.228504",
     "exception": false,
     "start_time": "2022-02-19T20:45:12.184583",
     "status": "completed"
    },
    "tags": []
   },
   "source": [
    "<div style=\"background:#5990f7;color:#fff;padding:1em 2em 1.5em 2em;border-radius: 3px;font-weight:bold\">\n",
    "    <strong>\n",
    "        <h4 style = \"color:#fff\"><font size = 4>Dense Neural Networks(DNN)</font></h4>\n",
    "    </strong>\n",
    "</div>"
   ]
  },
  {
   "cell_type": "code",
   "execution_count": 21,
   "id": "2e57f29f",
   "metadata": {
    "execution": {
     "iopub.execute_input": "2022-02-19T20:45:12.320810Z",
     "iopub.status.busy": "2022-02-19T20:45:12.320030Z",
     "iopub.status.idle": "2022-02-19T20:45:12.464882Z",
     "shell.execute_reply": "2022-02-19T20:45:12.465679Z",
     "shell.execute_reply.started": "2022-02-19T19:41:57.708574Z"
    },
    "papermill": {
     "duration": 0.192914,
     "end_time": "2022-02-19T20:45:12.465929",
     "exception": false,
     "start_time": "2022-02-19T20:45:12.273015",
     "status": "completed"
    },
    "tags": []
   },
   "outputs": [
    {
     "name": "stderr",
     "output_type": "stream",
     "text": [
      "\n",
      "User settings:\n",
      "\n",
      "   KMP_AFFINITY=granularity=fine,verbose,compact,1,0\n",
      "   KMP_BLOCKTIME=0\n",
      "   KMP_DUPLICATE_LIB_OK=True\n",
      "   KMP_INIT_AT_FORK=FALSE\n",
      "   KMP_SETTINGS=1\n",
      "   KMP_WARNINGS=0\n",
      "\n",
      "Effective settings:\n",
      "\n",
      "   KMP_ABORT_DELAY=0\n",
      "   KMP_ADAPTIVE_LOCK_PROPS='1,1024'\n",
      "   KMP_ALIGN_ALLOC=64\n",
      "   KMP_ALL_THREADPRIVATE=128\n",
      "   KMP_ATOMIC_MODE=2\n",
      "   KMP_BLOCKTIME=0\n",
      "   KMP_CPUINFO_FILE: value is not defined\n",
      "   KMP_DETERMINISTIC_REDUCTION=false\n",
      "   KMP_DEVICE_THREAD_LIMIT=2147483647\n",
      "   KMP_DISP_NUM_BUFFERS=7\n",
      "   KMP_DUPLICATE_LIB_OK=true\n",
      "   KMP_ENABLE_TASK_THROTTLING=true\n",
      "   KMP_FORCE_REDUCTION: value is not defined\n",
      "   KMP_FOREIGN_THREADS_THREADPRIVATE=true\n",
      "   KMP_FORKJOIN_BARRIER='2,2'\n",
      "   KMP_FORKJOIN_BARRIER_PATTERN='hyper,hyper'\n",
      "   KMP_GTID_MODE=3\n",
      "   KMP_HANDLE_SIGNALS=false\n",
      "   KMP_HOT_TEAMS_MAX_LEVEL=1\n",
      "   KMP_HOT_TEAMS_MODE=0\n",
      "   KMP_INIT_AT_FORK=true\n",
      "   KMP_LIBRARY=throughput\n",
      "   KMP_LOCK_KIND=queuing\n",
      "   KMP_MALLOC_POOL_INCR=1M\n",
      "   KMP_NUM_LOCKS_IN_BLOCK=1\n",
      "   KMP_PLAIN_BARRIER='2,2'\n",
      "   KMP_PLAIN_BARRIER_PATTERN='hyper,hyper'\n",
      "   KMP_REDUCTION_BARRIER='1,1'\n",
      "   KMP_REDUCTION_BARRIER_PATTERN='hyper,hyper'\n",
      "   KMP_SCHEDULE='static,balanced;guided,iterative'\n",
      "   KMP_SETTINGS=true\n",
      "   KMP_SPIN_BACKOFF_PARAMS='4096,100'\n",
      "   KMP_STACKOFFSET=64\n",
      "   KMP_STACKPAD=0\n",
      "   KMP_STACKSIZE=8M\n",
      "   KMP_STORAGE_MAP=false\n",
      "   KMP_TASKING=2\n",
      "   KMP_TASKLOOP_MIN_TASKS=0\n",
      "   KMP_TASK_STEALING_CONSTRAINT=1\n",
      "   KMP_TEAMS_THREAD_LIMIT=4\n",
      "   KMP_TOPOLOGY_METHOD=all\n",
      "   KMP_USE_YIELD=1\n",
      "   KMP_VERSION=false\n",
      "   KMP_WARNINGS=false\n",
      "   OMP_AFFINITY_FORMAT='OMP: pid %P tid %i thread %n bound to OS proc set {%A}'\n",
      "   OMP_ALLOCATOR=omp_default_mem_alloc\n",
      "   OMP_CANCELLATION=false\n",
      "   OMP_DEFAULT_DEVICE=0\n",
      "   OMP_DISPLAY_AFFINITY=false\n",
      "   OMP_DISPLAY_ENV=false\n",
      "   OMP_DYNAMIC=false\n",
      "   OMP_MAX_ACTIVE_LEVELS=1\n",
      "   OMP_MAX_TASK_PRIORITY=0\n",
      "   OMP_NESTED: deprecated; max-active-levels-var=1\n",
      "   OMP_NUM_THREADS: value is not defined\n",
      "   OMP_PLACES: value is not defined\n",
      "   OMP_PROC_BIND='intel'\n",
      "   OMP_SCHEDULE='static'\n",
      "   OMP_STACKSIZE=8M\n",
      "   OMP_TARGET_OFFLOAD=DEFAULT\n",
      "   OMP_THREAD_LIMIT=2147483647\n",
      "   OMP_WAIT_POLICY=PASSIVE\n",
      "   KMP_AFFINITY='verbose,warnings,respect,granularity=fine,compact,1,0'\n",
      "\n",
      "2022-02-19 20:45:12.365211: I tensorflow/core/common_runtime/process_util.cc:146] Creating new thread pool with default inter op setting: 2. Tune using inter_op_parallelism_threads for best performance.\n"
     ]
    }
   ],
   "source": [
    "# Relu for activation function and drop out for regularization\n",
    "model = Sequential()\n",
    "model.add(Dense(32, activation = 'relu', input_dim = X_train.shape[1]))\n",
    "model.add(Dropout(rate = 0.25))\n",
    "model.add(Dense(1, activation = 'sigmoid'))"
   ]
  },
  {
   "cell_type": "code",
   "execution_count": 22,
   "id": "bf5fb326",
   "metadata": {
    "execution": {
     "iopub.execute_input": "2022-02-19T20:45:12.561135Z",
     "iopub.status.busy": "2022-02-19T20:45:12.559976Z",
     "iopub.status.idle": "2022-02-19T20:45:12.573965Z",
     "shell.execute_reply": "2022-02-19T20:45:12.574545Z",
     "shell.execute_reply.started": "2022-02-19T19:41:57.825371Z"
    },
    "papermill": {
     "duration": 0.063972,
     "end_time": "2022-02-19T20:45:12.574727",
     "exception": false,
     "start_time": "2022-02-19T20:45:12.510755",
     "status": "completed"
    },
    "tags": []
   },
   "outputs": [],
   "source": [
    "# Compiling model with  binary crossentropy and the adam optimizer\n",
    "model.compile(loss = 'binary_crossentropy',\n",
    "                optimizer = 'adam',\n",
    "                metrics = ['accuracy'])"
   ]
  },
  {
   "cell_type": "code",
   "execution_count": 23,
   "id": "cdfc8624",
   "metadata": {
    "execution": {
     "iopub.execute_input": "2022-02-19T20:45:12.669490Z",
     "iopub.status.busy": "2022-02-19T20:45:12.668468Z",
     "iopub.status.idle": "2022-02-19T20:46:20.126213Z",
     "shell.execute_reply": "2022-02-19T20:46:20.125573Z",
     "shell.execute_reply.started": "2022-02-19T19:41:57.838922Z"
    },
    "papermill": {
     "duration": 67.505368,
     "end_time": "2022-02-19T20:46:20.126393",
     "exception": false,
     "start_time": "2022-02-19T20:45:12.621025",
     "status": "completed"
    },
    "tags": []
   },
   "outputs": [
    {
     "name": "stderr",
     "output_type": "stream",
     "text": [
      "2022-02-19 20:45:13.707102: I tensorflow/compiler/mlir/mlir_graph_optimization_pass.cc:185] None of the MLIR Optimization Passes are enabled (registered 2)\n"
     ]
    },
    {
     "name": "stdout",
     "output_type": "stream",
     "text": [
      "Epoch 1/10\n",
      "2285/2285 [==============================] - 7s 3ms/step - loss: 0.2437 - accuracy: 0.9077\n",
      "Epoch 2/10\n",
      "2285/2285 [==============================] - 7s 3ms/step - loss: 0.1619 - accuracy: 0.9470\n",
      "Epoch 3/10\n",
      "2285/2285 [==============================] - 6s 3ms/step - loss: 0.1462 - accuracy: 0.9540\n",
      "Epoch 4/10\n",
      "2285/2285 [==============================] - 7s 3ms/step - loss: 0.1344 - accuracy: 0.9575\n",
      "Epoch 5/10\n",
      "2285/2285 [==============================] - 6s 3ms/step - loss: 0.1265 - accuracy: 0.9612\n",
      "Epoch 6/10\n",
      "2285/2285 [==============================] - 6s 3ms/step - loss: 0.1213 - accuracy: 0.9627\n",
      "Epoch 7/10\n",
      "2285/2285 [==============================] - 7s 3ms/step - loss: 0.1125 - accuracy: 0.9654\n",
      "Epoch 8/10\n",
      "2285/2285 [==============================] - 6s 3ms/step - loss: 0.1132 - accuracy: 0.9649\n",
      "Epoch 9/10\n",
      "2285/2285 [==============================] - 6s 3ms/step - loss: 0.1092 - accuracy: 0.9660\n",
      "Epoch 10/10\n",
      "2285/2285 [==============================] - 6s 3ms/step - loss: 0.1067 - accuracy: 0.9672\n"
     ]
    },
    {
     "data": {
      "text/plain": [
       "<keras.callbacks.History at 0x7f829920f1d0>"
      ]
     },
     "execution_count": 23,
     "metadata": {},
     "output_type": "execute_result"
    }
   ],
   "source": [
    "# Fitting the model\n",
    "model.fit(X_train, y_train, batch_size = 32, epochs= 10, verbose = 1)"
   ]
  },
  {
   "cell_type": "code",
   "execution_count": 24,
   "id": "47ed9bbd",
   "metadata": {
    "execution": {
     "iopub.execute_input": "2022-02-19T20:46:21.030487Z",
     "iopub.status.busy": "2022-02-19T20:46:21.029435Z",
     "iopub.status.idle": "2022-02-19T20:46:21.037668Z",
     "shell.execute_reply": "2022-02-19T20:46:21.038186Z",
     "shell.execute_reply.started": "2022-02-19T19:42:48.404003Z"
    },
    "papermill": {
     "duration": 0.461488,
     "end_time": "2022-02-19T20:46:21.038386",
     "exception": false,
     "start_time": "2022-02-19T20:46:20.576898",
     "status": "completed"
    },
    "tags": []
   },
   "outputs": [],
   "source": [
    "# Evaluation Metrics\n",
    "def print_report(y_actual, y_pred, thresh):\n",
    "    # Function to print evaluation metrics\n",
    "    auc = roc_auc_score(y_actual, y_pred)\n",
    "    accuracy = accuracy_score(y_actual, (y_pred > thresh))\n",
    "    recall = recall_score(y_actual, (y_pred > thresh))\n",
    "    precision = precision_score(y_actual, (y_pred > thresh))\n",
    "    specificity = sum((y_pred < thresh) & (y_actual == 0)) /sum(y_actual ==0)\n",
    "    prevalence = (sum(y_actual)/len(y_actual))\n",
    "    print('AUC:%.3f'%auc)\n",
    "    print('Accuracy:%.3f'%accuracy)\n",
    "    print('Recall:%.3f'%recall)\n",
    "    print('Precision:%.3f'%precision)\n",
    "    print('Specificity:%.3f'%specificity)\n",
    "    print('Prevalence:%.3f'%prevalence)\n",
    "    print(' ')\n",
    "    return auc, accuracy, recall, precision, specificity"
   ]
  },
  {
   "cell_type": "code",
   "execution_count": 25,
   "id": "00dffde5",
   "metadata": {
    "execution": {
     "iopub.execute_input": "2022-02-19T20:46:21.978830Z",
     "iopub.status.busy": "2022-02-19T20:46:21.978028Z",
     "iopub.status.idle": "2022-02-19T20:46:28.543967Z",
     "shell.execute_reply": "2022-02-19T20:46:28.542591Z",
     "shell.execute_reply.started": "2022-02-19T19:42:48.413049Z"
    },
    "papermill": {
     "duration": 7.038488,
     "end_time": "2022-02-19T20:46:28.544228",
     "exception": false,
     "start_time": "2022-02-19T20:46:21.505740",
     "status": "completed"
    },
    "tags": []
   },
   "outputs": [
    {
     "name": "stdout",
     "output_type": "stream",
     "text": [
      "2285/2285 [==============================] - 3s 1ms/step\n",
      "1126/1126 [==============================] - 2s 2ms/step\n"
     ]
    }
   ],
   "source": [
    "# Predictions\n",
    "y_train_preds_dense = model.predict(X_train,verbose = 1)\n",
    "y_valid_preds_dense = model.predict(X_valid,verbose = 1)"
   ]
  },
  {
   "cell_type": "code",
   "execution_count": 26,
   "id": "8a3a6dc7",
   "metadata": {
    "execution": {
     "iopub.execute_input": "2022-02-19T20:46:29.652529Z",
     "iopub.status.busy": "2022-02-19T20:46:29.651599Z",
     "iopub.status.idle": "2022-02-19T20:46:29.653830Z",
     "shell.execute_reply": "2022-02-19T20:46:29.654320Z",
     "shell.execute_reply.started": "2022-02-19T19:42:53.620606Z"
    },
    "papermill": {
     "duration": 0.61116,
     "end_time": "2022-02-19T20:46:29.654509",
     "exception": false,
     "start_time": "2022-02-19T20:46:29.043349",
     "status": "completed"
    },
    "tags": []
   },
   "outputs": [],
   "source": [
    "# Threshold Value\n",
    "thresh = (sum(y_train)/len(y_train))[0]"
   ]
  },
  {
   "cell_type": "code",
   "execution_count": 27,
   "id": "12edcd23",
   "metadata": {
    "execution": {
     "iopub.execute_input": "2022-02-19T20:46:30.624259Z",
     "iopub.status.busy": "2022-02-19T20:46:30.623192Z",
     "iopub.status.idle": "2022-02-19T20:46:31.261501Z",
     "shell.execute_reply": "2022-02-19T20:46:31.260897Z",
     "shell.execute_reply.started": "2022-02-19T19:42:53.700774Z"
    },
    "papermill": {
     "duration": 1.127267,
     "end_time": "2022-02-19T20:46:31.261662",
     "exception": false,
     "start_time": "2022-02-19T20:46:30.134395",
     "status": "completed"
    },
    "tags": []
   },
   "outputs": [
    {
     "name": "stdout",
     "output_type": "stream",
     "text": [
      "On Train Data\n",
      "AUC:0.995\n",
      "Accuracy:0.979\n",
      "Recall:0.961\n",
      "Precision:0.971\n",
      "Specificity:0.987\n",
      "Prevalence:0.315\n",
      " \n",
      "On Valid Data\n",
      "AUC:0.990\n",
      "Accuracy:0.970\n",
      "Recall:0.949\n",
      "Precision:0.957\n",
      "Specificity:0.980\n",
      "Prevalence:0.314\n",
      " \n"
     ]
    },
    {
     "data": {
      "text/plain": [
       "(0.9900715726128928,\n",
       " 0.9704746826653334,\n",
       " 0.9487429178470255,\n",
       " 0.9567895723596107,\n",
       " array([0.98041041]))"
      ]
     },
     "execution_count": 27,
     "metadata": {},
     "output_type": "execute_result"
    }
   ],
   "source": [
    "# Accessing Evaluation Metrics Function\n",
    "print('On Train Data')\n",
    "print_report(y_train, y_train_preds_dense, thresh)\n",
    "print('On Valid Data')\n",
    "print_report(y_valid, y_valid_preds_dense, thresh)"
   ]
  },
  {
   "cell_type": "markdown",
   "id": "751ad2e6",
   "metadata": {
    "papermill": {
     "duration": 0.475475,
     "end_time": "2022-02-19T20:46:32.212529",
     "exception": false,
     "start_time": "2022-02-19T20:46:31.737054",
     "status": "completed"
    },
    "tags": []
   },
   "source": [
    "<div style=\"background:#5990f7;color:#fff;padding:1em 2em 1.5em 2em;border-radius: 3px;font-weight:bold\">\n",
    "    <strong>\n",
    "        <h4 style = \"color:#fff\"><font size = 4>Convolutional Neural Networks(CNN)</font></h4>\n",
    "    </strong>\n",
    "</div>"
   ]
  },
  {
   "cell_type": "code",
   "execution_count": 28,
   "id": "3e574633",
   "metadata": {
    "execution": {
     "iopub.execute_input": "2022-02-19T20:46:33.177695Z",
     "iopub.status.busy": "2022-02-19T20:46:33.176795Z",
     "iopub.status.idle": "2022-02-19T20:46:33.180038Z",
     "shell.execute_reply": "2022-02-19T20:46:33.180779Z",
     "shell.execute_reply.started": "2022-02-19T19:42:54.331273Z"
    },
    "papermill": {
     "duration": 0.490968,
     "end_time": "2022-02-19T20:46:33.180971",
     "exception": false,
     "start_time": "2022-02-19T20:46:32.690003",
     "status": "completed"
    },
    "tags": []
   },
   "outputs": [
    {
     "name": "stdout",
     "output_type": "stream",
     "text": [
      "(73096, 2160, 1)\n",
      "(36003, 2160, 1)\n"
     ]
    }
   ],
   "source": [
    "# reshape input to [samples, time steps, features = 1] for CNN\n",
    "X_train_cnn = np.reshape(X_train, (X_train.shape[0], X_train.shape[1], 1))\n",
    "X_valid_cnn = np.reshape(X_valid, (X_valid.shape[0], X_valid.shape[1], 1))\n",
    "\n",
    "print(X_train_cnn.shape)\n",
    "print(X_valid_cnn.shape)"
   ]
  },
  {
   "cell_type": "code",
   "execution_count": 29,
   "id": "24bf1969",
   "metadata": {
    "execution": {
     "iopub.execute_input": "2022-02-19T20:46:34.133711Z",
     "iopub.status.busy": "2022-02-19T20:46:34.132969Z",
     "iopub.status.idle": "2022-02-19T20:46:34.185245Z",
     "shell.execute_reply": "2022-02-19T20:46:34.185833Z",
     "shell.execute_reply.started": "2022-02-19T19:42:54.339505Z"
    },
    "papermill": {
     "duration": 0.537149,
     "end_time": "2022-02-19T20:46:34.186039",
     "exception": false,
     "start_time": "2022-02-19T20:46:33.648890",
     "status": "completed"
    },
    "tags": []
   },
   "outputs": [],
   "source": [
    "# Relu for activation function & Dropout for reducing overfitting by randomly removing some nodes.\n",
    "model = Sequential()\n",
    "model.add(Conv1D(filters = 128, kernel_size = 5, activation = 'relu', input_shape = (2160,1)))\n",
    "model.add(Dropout(rate = 0.25))\n",
    "model.add(Flatten())\n",
    "model.add(Dense(1, activation = 'sigmoid'))\n",
    "\n",
    "# compile the model with binary crossentropy, and the adam optimizer\n",
    "model.compile(loss = 'binary_crossentropy',\n",
    "                optimizer = 'adam',\n",
    "                metrics = ['accuracy'])\n"
   ]
  },
  {
   "cell_type": "code",
   "execution_count": 30,
   "id": "1cf94399",
   "metadata": {
    "execution": {
     "iopub.execute_input": "2022-02-19T20:46:35.141479Z",
     "iopub.status.busy": "2022-02-19T20:46:35.140692Z",
     "iopub.status.idle": "2022-02-19T20:52:43.279021Z",
     "shell.execute_reply": "2022-02-19T20:52:43.278325Z",
     "shell.execute_reply.started": "2022-02-19T19:42:54.397774Z"
    },
    "papermill": {
     "duration": 368.616767,
     "end_time": "2022-02-19T20:52:43.279205",
     "exception": false,
     "start_time": "2022-02-19T20:46:34.662438",
     "status": "completed"
    },
    "tags": []
   },
   "outputs": [
    {
     "name": "stdout",
     "output_type": "stream",
     "text": [
      "Epoch 1/2\n",
      "2285/2285 [==============================] - 183s 80ms/step - loss: 0.2110 - accuracy: 0.9268\n",
      "Epoch 2/2\n",
      "2285/2285 [==============================] - 184s 80ms/step - loss: 0.1242 - accuracy: 0.9619\n"
     ]
    },
    {
     "data": {
      "text/plain": [
       "<keras.callbacks.History at 0x7f82211a3f90>"
      ]
     },
     "execution_count": 30,
     "metadata": {},
     "output_type": "execute_result"
    }
   ],
   "source": [
    "# Fitting data in model\n",
    "model.fit(X_train_cnn, y_train, batch_size = 32, epochs= 2, verbose = 1)"
   ]
  },
  {
   "cell_type": "code",
   "execution_count": 31,
   "id": "89154b12",
   "metadata": {
    "execution": {
     "iopub.execute_input": "2022-02-19T20:52:47.162674Z",
     "iopub.status.busy": "2022-02-19T20:52:47.161918Z",
     "iopub.status.idle": "2022-02-19T20:53:21.049090Z",
     "shell.execute_reply": "2022-02-19T20:53:21.000038Z",
     "shell.execute_reply.started": "2022-02-19T19:48:41.553498Z"
    },
    "papermill": {
     "duration": 35.855757,
     "end_time": "2022-02-19T20:53:21.049297",
     "exception": false,
     "start_time": "2022-02-19T20:52:45.193540",
     "status": "completed"
    },
    "tags": []
   },
   "outputs": [
    {
     "name": "stdout",
     "output_type": "stream",
     "text": [
      "2285/2285 [==============================] - 21s 9ms/step\n",
      "1126/1126 [==============================] - 11s 9ms/step\n"
     ]
    }
   ],
   "source": [
    "# Predictions\n",
    "y_train_preds_cnn = model.predict(X_train_cnn,verbose = 1)\n",
    "y_valid_preds_cnn = model.predict(X_valid_cnn,verbose = 1)"
   ]
  },
  {
   "cell_type": "code",
   "execution_count": 32,
   "id": "951cb2f8",
   "metadata": {
    "execution": {
     "iopub.execute_input": "2022-02-19T20:53:25.213303Z",
     "iopub.status.busy": "2022-02-19T20:53:25.212591Z",
     "iopub.status.idle": "2022-02-19T20:53:25.834438Z",
     "shell.execute_reply": "2022-02-19T20:53:25.833553Z",
     "shell.execute_reply.started": "2022-02-19T19:49:11.704845Z"
    },
    "papermill": {
     "duration": 2.706192,
     "end_time": "2022-02-19T20:53:25.834616",
     "exception": false,
     "start_time": "2022-02-19T20:53:23.128424",
     "status": "completed"
    },
    "tags": []
   },
   "outputs": [
    {
     "name": "stdout",
     "output_type": "stream",
     "text": [
      "Train\n",
      "AUC:0.989\n",
      "Accuracy:0.968\n",
      "Recall:0.928\n",
      "Precision:0.967\n",
      "Specificity:0.986\n",
      "Prevalence:0.315\n",
      " \n",
      "Valid\n",
      "AUC:0.985\n",
      "Accuracy:0.962\n",
      "Recall:0.917\n",
      "Precision:0.962\n",
      "Specificity:0.983\n",
      "Prevalence:0.314\n",
      " \n"
     ]
    }
   ],
   "source": [
    "# Metrics\n",
    "print('Train');\n",
    "print_report(y_train, y_train_preds_cnn, thresh)\n",
    "print('Valid');\n",
    "print_report(y_valid, y_valid_preds_cnn, thresh);"
   ]
  },
  {
   "cell_type": "markdown",
   "id": "1816a6d7",
   "metadata": {
    "papermill": {
     "duration": 2.061713,
     "end_time": "2022-02-19T20:53:30.078776",
     "exception": false,
     "start_time": "2022-02-19T20:53:28.017063",
     "status": "completed"
    },
    "tags": []
   },
   "source": [
    "<div style=\"background:#5990f7;color:#fff;padding:1em 2em 1.5em 2em;border-radius: 3px;font-weight:bold\">\n",
    "    <strong>\n",
    "        <h4 style = \"color:#fff\"><font size = 4>Long Short Term Memory (LSTM)</font></h4>\n",
    "    </strong>\n",
    "</div>"
   ]
  },
  {
   "cell_type": "code",
   "execution_count": 33,
   "id": "47a6360c",
   "metadata": {
    "execution": {
     "iopub.execute_input": "2022-02-19T20:53:34.202967Z",
     "iopub.status.busy": "2022-02-19T20:53:34.202264Z",
     "iopub.status.idle": "2022-02-19T20:53:34.231816Z",
     "shell.execute_reply": "2022-02-19T20:53:34.231016Z",
     "shell.execute_reply.started": "2022-02-19T19:49:12.327563Z"
    },
    "papermill": {
     "duration": 2.091883,
     "end_time": "2022-02-19T20:53:34.232006",
     "exception": false,
     "start_time": "2022-02-19T20:53:32.140123",
     "status": "completed"
    },
    "tags": []
   },
   "outputs": [],
   "source": [
    "# Bidirectional LSTM with Dropout for reducing overfitting by randomly removing some nodes.\n",
    "model = Sequential()\n",
    "model.add(Bidirectional(LSTM(64, input_shape=(X_train_cnn.shape[1], X_train_cnn.shape[2]))))\n",
    "model.add(Dropout(rate = 0.25))\n",
    "model.add(Dense(1, activation = 'sigmoid'))\n",
    "model.compile(\n",
    "                loss = 'binary_crossentropy',\n",
    "                optimizer = 'adam',\n",
    "                metrics = ['accuracy'])"
   ]
  },
  {
   "cell_type": "code",
   "execution_count": 34,
   "id": "b9e03bb7",
   "metadata": {
    "execution": {
     "iopub.execute_input": "2022-02-19T20:53:38.542695Z",
     "iopub.status.busy": "2022-02-19T20:53:38.541638Z",
     "iopub.status.idle": "2022-02-19T21:07:52.446626Z",
     "shell.execute_reply": "2022-02-19T21:07:52.447271Z",
     "shell.execute_reply.started": "2022-02-19T19:49:12.364555Z"
    },
    "papermill": {
     "duration": 856.059524,
     "end_time": "2022-02-19T21:07:52.447491",
     "exception": false,
     "start_time": "2022-02-19T20:53:36.387967",
     "status": "completed"
    },
    "tags": []
   },
   "outputs": [
    {
     "name": "stdout",
     "output_type": "stream",
     "text": [
      "313/313 [==============================] - 854s 3s/step - loss: 0.6147 - accuracy: 0.6934\n"
     ]
    },
    {
     "data": {
      "text/plain": [
       "<keras.callbacks.History at 0x7f8220d00150>"
      ]
     },
     "execution_count": 34,
     "metadata": {},
     "output_type": "execute_result"
    }
   ],
   "source": [
    "# Fitting Data\n",
    "model.fit(X_train_cnn[:10000], y_train[:10000], batch_size = 32, epochs= 1, verbose = 1)"
   ]
  },
  {
   "cell_type": "code",
   "execution_count": 35,
   "id": "15635dc4",
   "metadata": {
    "execution": {
     "iopub.execute_input": "2022-02-19T21:07:56.861314Z",
     "iopub.status.busy": "2022-02-19T21:07:56.860518Z",
     "iopub.status.idle": "2022-02-19T21:24:58.123717Z",
     "shell.execute_reply": "2022-02-19T21:24:58.123053Z",
     "shell.execute_reply.started": "2022-02-19T20:02:35.207559Z"
    },
    "papermill": {
     "duration": 1023.477129,
     "end_time": "2022-02-19T21:24:58.123880",
     "exception": false,
     "start_time": "2022-02-19T21:07:54.646751",
     "status": "completed"
    },
    "tags": []
   },
   "outputs": [
    {
     "name": "stdout",
     "output_type": "stream",
     "text": [
      "313/313 [==============================] - 218s 695ms/step\n",
      "1126/1126 [==============================] - 785s 698ms/step\n"
     ]
    }
   ],
   "source": [
    "# Prediction\n",
    "y_train_preds_lstm = model.predict(X_train_cnn[:10000],verbose = 1)\n",
    "y_valid_preds_lstm = model.predict(X_valid_cnn,verbose = 1)"
   ]
  },
  {
   "cell_type": "code",
   "execution_count": 36,
   "id": "7243155e",
   "metadata": {
    "execution": {
     "iopub.execute_input": "2022-02-19T21:25:03.448193Z",
     "iopub.status.busy": "2022-02-19T21:25:03.447501Z",
     "iopub.status.idle": "2022-02-19T21:25:03.720602Z",
     "shell.execute_reply": "2022-02-19T21:25:03.719850Z",
     "shell.execute_reply.started": "2022-02-19T20:18:36.134228Z"
    },
    "papermill": {
     "duration": 2.885722,
     "end_time": "2022-02-19T21:25:03.720767",
     "exception": false,
     "start_time": "2022-02-19T21:25:00.835045",
     "status": "completed"
    },
    "tags": []
   },
   "outputs": [
    {
     "name": "stdout",
     "output_type": "stream",
     "text": [
      "Train\n",
      "AUC:0.589\n",
      "Accuracy:0.490\n",
      "Recall:0.751\n",
      "Precision:0.350\n",
      "Specificity:0.372\n",
      "Prevalence:0.311\n",
      " \n",
      "Valid\n",
      "AUC:0.583\n",
      "Accuracy:0.483\n",
      "Recall:0.734\n",
      "Precision:0.347\n",
      "Specificity:0.368\n",
      "Prevalence:0.314\n",
      " \n"
     ]
    }
   ],
   "source": [
    "# Metrics\n",
    "print('Train');\n",
    "print_report(y_train[:10000], y_train_preds_lstm, thresh)\n",
    "print('Valid');\n",
    "print_report(y_valid, y_valid_preds_lstm, thresh);"
   ]
  },
  {
   "cell_type": "markdown",
   "id": "b7e0cff4",
   "metadata": {
    "papermill": {
     "duration": 2.597571,
     "end_time": "2022-02-19T21:25:09.001548",
     "exception": false,
     "start_time": "2022-02-19T21:25:06.403977",
     "status": "completed"
    },
    "tags": []
   },
   "source": [
    "#### LSTM is not working good on data because we are using a subset of data"
   ]
  },
  {
   "cell_type": "markdown",
   "id": "a5863ca9",
   "metadata": {
    "papermill": {
     "duration": 2.607085,
     "end_time": "2022-02-19T21:25:14.307516",
     "exception": false,
     "start_time": "2022-02-19T21:25:11.700431",
     "status": "completed"
    },
    "tags": []
   },
   "source": [
    "<div style=\"background:#c72e57;color:#fff;padding:1em 2em 1.5em 2em;border-radius: 3px;font-weight:bold\">\n",
    "    <strong>\n",
    "        <h4 style = \"color:#fff\"><font size = 4>Evaluation Metrics</font></h4>\n",
    "    </strong>\n",
    "</div>"
   ]
  },
  {
   "cell_type": "code",
   "execution_count": 37,
   "id": "ec759062",
   "metadata": {
    "execution": {
     "iopub.execute_input": "2022-02-19T21:25:19.626530Z",
     "iopub.status.busy": "2022-02-19T21:25:19.625829Z",
     "iopub.status.idle": "2022-02-19T21:25:19.928381Z",
     "shell.execute_reply": "2022-02-19T21:25:19.928889Z",
     "shell.execute_reply.started": "2022-02-19T20:18:36.408896Z"
    },
    "papermill": {
     "duration": 2.995438,
     "end_time": "2022-02-19T21:25:19.929079",
     "exception": false,
     "start_time": "2022-02-19T21:25:16.933641",
     "status": "completed"
    },
    "tags": []
   },
   "outputs": [
    {
     "data": {
      "image/png": "[encoded data removed]",
      "text/plain": [
       "<Figure size 432x288 with 1 Axes>"
      ]
     },
     "metadata": {
      "needs_background": "light"
     },
     "output_type": "display_data"
    }
   ],
   "source": [
    "from sklearn.metrics import roc_curve, roc_auc_score\n",
    "\n",
    "fpr_valid_cnn, tpr_valid_cnn, t_valid_cnn = roc_curve(y_valid, y_valid_preds_cnn)\n",
    "auc_valid_cnn = roc_auc_score(y_valid, y_valid_preds_cnn)\n",
    "\n",
    "fpr_valid_dense, tpr_valid_dense, t_valid_dense = roc_curve(y_valid, y_valid_preds_dense)\n",
    "auc_valid_dense = roc_auc_score(y_valid, y_valid_preds_dense)\n",
    "\n",
    "fpr_valid_lstm, tpr_valid_lstm, t_valid_lstm = roc_curve(y_valid, y_valid_preds_lstm)\n",
    "auc_valid_lstm = roc_auc_score(y_valid, y_valid_preds_lstm)\n",
    "\n",
    "plt.plot(fpr_valid_cnn, tpr_valid_cnn, 'g-', label = 'CNN AUC:%.3f'%auc_valid_cnn)\n",
    "plt.plot(fpr_valid_dense, tpr_valid_dense, 'r-', label = 'Dense AUC:%.3f'%auc_valid_dense)\n",
    "plt.plot(fpr_valid_lstm, tpr_valid_lstm, 'b-', label = 'LSTM AUC:%.3f'%auc_valid_lstm)\n",
    "\n",
    "plt.plot([0,1],[0,1], 'k--')\n",
    "plt.xlabel('FPR')\n",
    "plt.ylabel('TPR')\n",
    "plt.legend(bbox_to_anchor = (1.04,1), loc = 'upper left')\n",
    "plt.title('Validation Set')\n",
    "plt.show()\n"
   ]
  },
  {
   "cell_type": "markdown",
   "id": "8961e2ab",
   "metadata": {
    "papermill": {
     "duration": 2.625908,
     "end_time": "2022-02-19T21:25:25.208924",
     "exception": false,
     "start_time": "2022-02-19T21:25:22.583016",
     "status": "completed"
    },
    "tags": []
   },
   "source": [
    "### Here we can conclude that Dense Layer Network work good on predicting Arrhythmia 😊"
   ]
  },
  {
   "cell_type": "markdown",
   "id": "f87bbe2a",
   "metadata": {
    "papermill": {
     "duration": 2.630236,
     "end_time": "2022-02-19T21:25:30.512891",
     "exception": false,
     "start_time": "2022-02-19T21:25:27.882655",
     "status": "completed"
    },
    "tags": []
   },
   "source": [
    "<center><h1 class=\"list-group-item list-group-item-success\">Thank You</h1></center>"
   ]
  }
 ],
 "metadata": {
  "kernelspec": {
   "display_name": "Python 3",
   "language": "python",
   "name": "python3"
  },
  "language_info": {
   "codemirror_mode": {
    "name": "ipython",
    "version": 3
   },
   "file_extension": ".py",
   "mimetype": "text/x-python",
   "name": "python",
   "nbconvert_exporter": "python",
   "pygments_lexer": "ipython3",
   "version": "3.7.10"
  },
  "papermill": {
   "default_parameters": {},
   "duration": 2477.197591,
   "end_time": "2022-02-19T21:25:36.861912",
   "environment_variables": {},
   "exception": null,
   "input_path": "__notebook__.ipynb",
   "output_path": "__notebook__.ipynb",
   "parameters": {},
   "start_time": "2022-02-19T20:44:19.664321",
   "version": "2.3.3"
  }
 },
 "nbformat": 4,
 "nbformat_minor": 5
}
